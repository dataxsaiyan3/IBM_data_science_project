{
 "cells": [
  {
   "cell_type": "markdown",
   "id": "1333b5d9",
   "metadata": {},
   "source": [
    "# Data Importing, Exploration, Cleaning and Visualising"
   ]
  },
  {
   "cell_type": "markdown",
   "id": "7f848851",
   "metadata": {},
   "source": [
    "### Importing libraries"
   ]
  },
  {
   "cell_type": "code",
   "execution_count": 133,
   "id": "7836e1c7",
   "metadata": {},
   "outputs": [],
   "source": [
    "# Importing the libraries needed for this part of the project \n",
    "\n",
    "import pandas as pd\n",
    "import numpy as np\n",
    "import matplotlib.pyplot as plt\n",
    "from datetime import datetime\n",
    "import pymongo\n",
    "from pymongo import MongoClient"
   ]
  },
  {
   "cell_type": "markdown",
   "id": "b7654faf",
   "metadata": {},
   "source": [
    "### Reading CSV files"
   ]
  },
  {
   "cell_type": "code",
   "execution_count": 134,
   "id": "4573f74c",
   "metadata": {
    "scrolled": true
   },
   "outputs": [
    {
     "name": "stderr",
     "output_type": "stream",
     "text": [
      "d:\\pyenv\\pyenv\\lib\\site-packages\\IPython\\core\\interactiveshell.py:3169: DtypeWarning:\n",
      "\n",
      "Columns (7) have mixed types.Specify dtype option on import or set low_memory=False.\n",
      "\n"
     ]
    }
   ],
   "source": [
    "# Getting and storing the data in a dataframe\n",
    "df = pd.read_csv('df_all_2020_2021.csv')\n"
   ]
  },
  {
   "cell_type": "code",
   "execution_count": 135,
   "id": "f3111793",
   "metadata": {},
   "outputs": [
    {
     "data": {
      "text/plain": [
       "Clash of Clans    757133\n",
       "Brawl Stars       246871\n",
       "Clash Royale      207964\n",
       "Hay Day            67808\n",
       "Boom Beach         18013\n",
       "Clash  Quest         722\n",
       "Name: appId, dtype: int64"
      ]
     },
     "execution_count": 135,
     "metadata": {},
     "output_type": "execute_result"
    }
   ],
   "source": [
    "# Checking the current value counts of each app name\n",
    "df['appId'].value_counts()"
   ]
  },
  {
   "cell_type": "markdown",
   "id": "cfd01a1d",
   "metadata": {},
   "source": [
    "### Now we group the data by month in order to see a comparision between all supercell's apps between April 2020 and May 2021"
   ]
  },
  {
   "cell_type": "code",
   "execution_count": 136,
   "id": "86e768fb",
   "metadata": {},
   "outputs": [],
   "source": [
    "# Here I will do a monthly aggregation of the data to use it for the visualisation\n",
    "# First I will create a column for the month and the year\n",
    "df['month'] = pd.to_datetime(df['at']).dt.month\n",
    "df['year'] = pd.to_datetime(df['at']).dt.year\n",
    "\n",
    "\n"
   ]
  },
  {
   "cell_type": "code",
   "execution_count": 137,
   "id": "de2e17ab",
   "metadata": {},
   "outputs": [],
   "source": [
    "# Here I will create a new dataframe of the monthly value\n",
    "# We will group by the year, month and the appId\n",
    "# Aggregate by score, thumbsUpCount and count\n",
    "df_month = df.groupby(['year', 'month', 'appId'], as_index = False).agg({'score': np.mean, 'thumbsUpCount': np.sum, 'count': np.sum})"
   ]
  },
  {
   "cell_type": "code",
   "execution_count": 138,
   "id": "8288ac95",
   "metadata": {
    "scrolled": true
   },
   "outputs": [
    {
     "data": {
      "text/html": [
       "<div>\n",
       "<style scoped>\n",
       "    .dataframe tbody tr th:only-of-type {\n",
       "        vertical-align: middle;\n",
       "    }\n",
       "\n",
       "    .dataframe tbody tr th {\n",
       "        vertical-align: top;\n",
       "    }\n",
       "\n",
       "    .dataframe thead th {\n",
       "        text-align: right;\n",
       "    }\n",
       "</style>\n",
       "<table border=\"1\" class=\"dataframe\">\n",
       "  <thead>\n",
       "    <tr style=\"text-align: right;\">\n",
       "      <th></th>\n",
       "      <th>year</th>\n",
       "      <th>month</th>\n",
       "      <th>appId</th>\n",
       "      <th>score</th>\n",
       "      <th>thumbsUpCount</th>\n",
       "      <th>count</th>\n",
       "    </tr>\n",
       "  </thead>\n",
       "  <tbody>\n",
       "    <tr>\n",
       "      <th>0</th>\n",
       "      <td>2020</td>\n",
       "      <td>4</td>\n",
       "      <td>Boom Beach</td>\n",
       "      <td>4.197368</td>\n",
       "      <td>2996</td>\n",
       "      <td>2584</td>\n",
       "    </tr>\n",
       "    <tr>\n",
       "      <th>1</th>\n",
       "      <td>2020</td>\n",
       "      <td>4</td>\n",
       "      <td>Brawl Stars</td>\n",
       "      <td>4.238264</td>\n",
       "      <td>9327</td>\n",
       "      <td>10459</td>\n",
       "    </tr>\n",
       "    <tr>\n",
       "      <th>2</th>\n",
       "      <td>2020</td>\n",
       "      <td>4</td>\n",
       "      <td>Clash Royale</td>\n",
       "      <td>3.828147</td>\n",
       "      <td>14580</td>\n",
       "      <td>13785</td>\n",
       "    </tr>\n",
       "    <tr>\n",
       "      <th>3</th>\n",
       "      <td>2020</td>\n",
       "      <td>4</td>\n",
       "      <td>Clash of Clans</td>\n",
       "      <td>4.445508</td>\n",
       "      <td>1702</td>\n",
       "      <td>3239</td>\n",
       "    </tr>\n",
       "    <tr>\n",
       "      <th>4</th>\n",
       "      <td>2020</td>\n",
       "      <td>4</td>\n",
       "      <td>Hay Day</td>\n",
       "      <td>4.103312</td>\n",
       "      <td>10918</td>\n",
       "      <td>7821</td>\n",
       "    </tr>\n",
       "  </tbody>\n",
       "</table>\n",
       "</div>"
      ],
      "text/plain": [
       "   year  month           appId     score  thumbsUpCount  count\n",
       "0  2020      4      Boom Beach  4.197368           2996   2584\n",
       "1  2020      4     Brawl Stars  4.238264           9327  10459\n",
       "2  2020      4    Clash Royale  3.828147          14580  13785\n",
       "3  2020      4  Clash of Clans  4.445508           1702   3239\n",
       "4  2020      4         Hay Day  4.103312          10918   7821"
      ]
     },
     "execution_count": 138,
     "metadata": {},
     "output_type": "execute_result"
    }
   ],
   "source": [
    "df_month.head()"
   ]
  },
  {
   "cell_type": "markdown",
   "id": "702f29c2",
   "metadata": {},
   "source": [
    "### Merging the year and month in one column"
   ]
  },
  {
   "cell_type": "code",
   "execution_count": 139,
   "id": "99315b1e",
   "metadata": {
    "scrolled": true
   },
   "outputs": [
    {
     "data": {
      "text/html": [
       "<div>\n",
       "<style scoped>\n",
       "    .dataframe tbody tr th:only-of-type {\n",
       "        vertical-align: middle;\n",
       "    }\n",
       "\n",
       "    .dataframe tbody tr th {\n",
       "        vertical-align: top;\n",
       "    }\n",
       "\n",
       "    .dataframe thead th {\n",
       "        text-align: right;\n",
       "    }\n",
       "</style>\n",
       "<table border=\"1\" class=\"dataframe\">\n",
       "  <thead>\n",
       "    <tr style=\"text-align: right;\">\n",
       "      <th></th>\n",
       "      <th>year</th>\n",
       "      <th>month</th>\n",
       "      <th>appId</th>\n",
       "      <th>score</th>\n",
       "      <th>thumbsUpCount</th>\n",
       "      <th>count</th>\n",
       "      <th>Monthly date</th>\n",
       "    </tr>\n",
       "  </thead>\n",
       "  <tbody>\n",
       "    <tr>\n",
       "      <th>0</th>\n",
       "      <td>2020</td>\n",
       "      <td>4</td>\n",
       "      <td>Boom Beach</td>\n",
       "      <td>4.197368</td>\n",
       "      <td>2996</td>\n",
       "      <td>2584</td>\n",
       "      <td>2020-4</td>\n",
       "    </tr>\n",
       "    <tr>\n",
       "      <th>1</th>\n",
       "      <td>2020</td>\n",
       "      <td>4</td>\n",
       "      <td>Brawl Stars</td>\n",
       "      <td>4.238264</td>\n",
       "      <td>9327</td>\n",
       "      <td>10459</td>\n",
       "      <td>2020-4</td>\n",
       "    </tr>\n",
       "    <tr>\n",
       "      <th>2</th>\n",
       "      <td>2020</td>\n",
       "      <td>4</td>\n",
       "      <td>Clash Royale</td>\n",
       "      <td>3.828147</td>\n",
       "      <td>14580</td>\n",
       "      <td>13785</td>\n",
       "      <td>2020-4</td>\n",
       "    </tr>\n",
       "    <tr>\n",
       "      <th>3</th>\n",
       "      <td>2020</td>\n",
       "      <td>4</td>\n",
       "      <td>Clash of Clans</td>\n",
       "      <td>4.445508</td>\n",
       "      <td>1702</td>\n",
       "      <td>3239</td>\n",
       "      <td>2020-4</td>\n",
       "    </tr>\n",
       "    <tr>\n",
       "      <th>4</th>\n",
       "      <td>2020</td>\n",
       "      <td>4</td>\n",
       "      <td>Hay Day</td>\n",
       "      <td>4.103312</td>\n",
       "      <td>10918</td>\n",
       "      <td>7821</td>\n",
       "      <td>2020-4</td>\n",
       "    </tr>\n",
       "    <tr>\n",
       "      <th>...</th>\n",
       "      <td>...</td>\n",
       "      <td>...</td>\n",
       "      <td>...</td>\n",
       "      <td>...</td>\n",
       "      <td>...</td>\n",
       "      <td>...</td>\n",
       "      <td>...</td>\n",
       "    </tr>\n",
       "    <tr>\n",
       "      <th>67</th>\n",
       "      <td>2021</td>\n",
       "      <td>5</td>\n",
       "      <td>Brawl Stars</td>\n",
       "      <td>3.917051</td>\n",
       "      <td>1226</td>\n",
       "      <td>651</td>\n",
       "      <td>2021-5</td>\n",
       "    </tr>\n",
       "    <tr>\n",
       "      <th>68</th>\n",
       "      <td>2021</td>\n",
       "      <td>5</td>\n",
       "      <td>Clash  Quest</td>\n",
       "      <td>3.666667</td>\n",
       "      <td>5</td>\n",
       "      <td>6</td>\n",
       "      <td>2021-5</td>\n",
       "    </tr>\n",
       "    <tr>\n",
       "      <th>69</th>\n",
       "      <td>2021</td>\n",
       "      <td>5</td>\n",
       "      <td>Clash Royale</td>\n",
       "      <td>3.765957</td>\n",
       "      <td>944</td>\n",
       "      <td>423</td>\n",
       "      <td>2021-5</td>\n",
       "    </tr>\n",
       "    <tr>\n",
       "      <th>70</th>\n",
       "      <td>2021</td>\n",
       "      <td>5</td>\n",
       "      <td>Clash of Clans</td>\n",
       "      <td>3.997102</td>\n",
       "      <td>7225</td>\n",
       "      <td>3106</td>\n",
       "      <td>2021-5</td>\n",
       "    </tr>\n",
       "    <tr>\n",
       "      <th>71</th>\n",
       "      <td>2021</td>\n",
       "      <td>5</td>\n",
       "      <td>Hay Day</td>\n",
       "      <td>4.228758</td>\n",
       "      <td>480</td>\n",
       "      <td>153</td>\n",
       "      <td>2021-5</td>\n",
       "    </tr>\n",
       "  </tbody>\n",
       "</table>\n",
       "<p>72 rows × 7 columns</p>\n",
       "</div>"
      ],
      "text/plain": [
       "    year  month           appId     score  thumbsUpCount  count Monthly date\n",
       "0   2020      4      Boom Beach  4.197368           2996   2584       2020-4\n",
       "1   2020      4     Brawl Stars  4.238264           9327  10459       2020-4\n",
       "2   2020      4    Clash Royale  3.828147          14580  13785       2020-4\n",
       "3   2020      4  Clash of Clans  4.445508           1702   3239       2020-4\n",
       "4   2020      4         Hay Day  4.103312          10918   7821       2020-4\n",
       "..   ...    ...             ...       ...            ...    ...          ...\n",
       "67  2021      5     Brawl Stars  3.917051           1226    651       2021-5\n",
       "68  2021      5    Clash  Quest  3.666667              5      6       2021-5\n",
       "69  2021      5    Clash Royale  3.765957            944    423       2021-5\n",
       "70  2021      5  Clash of Clans  3.997102           7225   3106       2021-5\n",
       "71  2021      5         Hay Day  4.228758            480    153       2021-5\n",
       "\n",
       "[72 rows x 7 columns]"
      ]
     },
     "execution_count": 139,
     "metadata": {},
     "output_type": "execute_result"
    }
   ],
   "source": [
    "# Here we merge the month and year columns to get a monthly observation of the app\n",
    "df_month['Monthly date'] = df_month['year'].astype(str) + '-' + df_month['month'].astype(str)\n",
    "df_month"
   ]
  },
  {
   "cell_type": "code",
   "execution_count": 140,
   "id": "e7eddfec",
   "metadata": {},
   "outputs": [
    {
     "data": {
      "text/plain": [
       "Hay Day           14\n",
       "Clash of Clans    14\n",
       "Clash Royale      14\n",
       "Brawl Stars       14\n",
       "Boom Beach        14\n",
       "Clash  Quest       2\n",
       "Name: appId, dtype: int64"
      ]
     },
     "execution_count": 140,
     "metadata": {},
     "output_type": "execute_result"
    }
   ],
   "source": [
    "# Checking the value counts of eachh app after aggregating per a month\n",
    "\n",
    "df_month['appId'].value_counts()"
   ]
  },
  {
   "cell_type": "markdown",
   "id": "701f6084",
   "metadata": {},
   "source": [
    "#### The reason why Clash Quest has only 2 entries might be because this app was launched very recenly and dont have enoguh data for one year."
   ]
  },
  {
   "cell_type": "code",
   "execution_count": 141,
   "id": "6562eaae",
   "metadata": {
    "scrolled": true
   },
   "outputs": [
    {
     "name": "stdout",
     "output_type": "stream",
     "text": [
      "<class 'pandas.core.frame.DataFrame'>\n",
      "Int64Index: 72 entries, 0 to 71\n",
      "Data columns (total 7 columns):\n",
      " #   Column         Non-Null Count  Dtype  \n",
      "---  ------         --------------  -----  \n",
      " 0   year           72 non-null     int64  \n",
      " 1   month          72 non-null     int64  \n",
      " 2   appId          72 non-null     object \n",
      " 3   score          72 non-null     float64\n",
      " 4   thumbsUpCount  72 non-null     int64  \n",
      " 5   count          72 non-null     int64  \n",
      " 6   Monthly date   72 non-null     object \n",
      "dtypes: float64(1), int64(4), object(2)\n",
      "memory usage: 4.5+ KB\n"
     ]
    }
   ],
   "source": [
    "# If we check the data type we find out that the date went back to being an object again\n",
    "# This happened because of splitting the date column into multiple columns and merging them back again\n",
    "# In this case we will keep it as is as it will be good enough to use for the visualisation\n",
    "\n",
    "df_month.info()"
   ]
  },
  {
   "cell_type": "markdown",
   "id": "39ccb2ae",
   "metadata": {},
   "source": [
    "### Creating summary statistics to get an idea of the monthly data"
   ]
  },
  {
   "cell_type": "code",
   "execution_count": 142,
   "id": "33429032",
   "metadata": {
    "scrolled": true
   },
   "outputs": [
    {
     "data": {
      "text/html": [
       "<div>\n",
       "<style scoped>\n",
       "    .dataframe tbody tr th:only-of-type {\n",
       "        vertical-align: middle;\n",
       "    }\n",
       "\n",
       "    .dataframe tbody tr th {\n",
       "        vertical-align: top;\n",
       "    }\n",
       "\n",
       "    .dataframe thead th {\n",
       "        text-align: right;\n",
       "    }\n",
       "</style>\n",
       "<table border=\"1\" class=\"dataframe\">\n",
       "  <thead>\n",
       "    <tr style=\"text-align: right;\">\n",
       "      <th></th>\n",
       "      <th>year</th>\n",
       "      <th>month</th>\n",
       "      <th>appId</th>\n",
       "      <th>score</th>\n",
       "      <th>thumbsUpCount</th>\n",
       "      <th>count</th>\n",
       "      <th>Monthly date</th>\n",
       "    </tr>\n",
       "  </thead>\n",
       "  <tbody>\n",
       "    <tr>\n",
       "      <th>count</th>\n",
       "      <td>72.00000</td>\n",
       "      <td>72.000000</td>\n",
       "      <td>72</td>\n",
       "      <td>72.000000</td>\n",
       "      <td>72.000000</td>\n",
       "      <td>72.000000</td>\n",
       "      <td>72</td>\n",
       "    </tr>\n",
       "    <tr>\n",
       "      <th>unique</th>\n",
       "      <td>NaN</td>\n",
       "      <td>NaN</td>\n",
       "      <td>6</td>\n",
       "      <td>NaN</td>\n",
       "      <td>NaN</td>\n",
       "      <td>NaN</td>\n",
       "      <td>14</td>\n",
       "    </tr>\n",
       "    <tr>\n",
       "      <th>top</th>\n",
       "      <td>NaN</td>\n",
       "      <td>NaN</td>\n",
       "      <td>Hay Day</td>\n",
       "      <td>NaN</td>\n",
       "      <td>NaN</td>\n",
       "      <td>NaN</td>\n",
       "      <td>2021-5</td>\n",
       "    </tr>\n",
       "    <tr>\n",
       "      <th>freq</th>\n",
       "      <td>NaN</td>\n",
       "      <td>NaN</td>\n",
       "      <td>14</td>\n",
       "      <td>NaN</td>\n",
       "      <td>NaN</td>\n",
       "      <td>NaN</td>\n",
       "      <td>6</td>\n",
       "    </tr>\n",
       "    <tr>\n",
       "      <th>mean</th>\n",
       "      <td>2020.37500</td>\n",
       "      <td>6.166667</td>\n",
       "      <td>NaN</td>\n",
       "      <td>4.148183</td>\n",
       "      <td>28911.083333</td>\n",
       "      <td>18034.875000</td>\n",
       "      <td>NaN</td>\n",
       "    </tr>\n",
       "    <tr>\n",
       "      <th>std</th>\n",
       "      <td>0.48752</td>\n",
       "      <td>3.267424</td>\n",
       "      <td>NaN</td>\n",
       "      <td>0.235614</td>\n",
       "      <td>36201.343745</td>\n",
       "      <td>24187.504233</td>\n",
       "      <td>NaN</td>\n",
       "    </tr>\n",
       "    <tr>\n",
       "      <th>min</th>\n",
       "      <td>2020.00000</td>\n",
       "      <td>1.000000</td>\n",
       "      <td>NaN</td>\n",
       "      <td>3.660916</td>\n",
       "      <td>5.000000</td>\n",
       "      <td>6.000000</td>\n",
       "      <td>NaN</td>\n",
       "    </tr>\n",
       "    <tr>\n",
       "      <th>25%</th>\n",
       "      <td>2020.00000</td>\n",
       "      <td>4.000000</td>\n",
       "      <td>NaN</td>\n",
       "      <td>4.006792</td>\n",
       "      <td>3756.000000</td>\n",
       "      <td>2437.250000</td>\n",
       "      <td>NaN</td>\n",
       "    </tr>\n",
       "    <tr>\n",
       "      <th>50%</th>\n",
       "      <td>2020.00000</td>\n",
       "      <td>5.000000</td>\n",
       "      <td>NaN</td>\n",
       "      <td>4.197695</td>\n",
       "      <td>15752.500000</td>\n",
       "      <td>10842.500000</td>\n",
       "      <td>NaN</td>\n",
       "    </tr>\n",
       "    <tr>\n",
       "      <th>75%</th>\n",
       "      <td>2021.00000</td>\n",
       "      <td>9.000000</td>\n",
       "      <td>NaN</td>\n",
       "      <td>4.360618</td>\n",
       "      <td>33363.250000</td>\n",
       "      <td>21569.500000</td>\n",
       "      <td>NaN</td>\n",
       "    </tr>\n",
       "    <tr>\n",
       "      <th>max</th>\n",
       "      <td>2021.00000</td>\n",
       "      <td>12.000000</td>\n",
       "      <td>NaN</td>\n",
       "      <td>4.499328</td>\n",
       "      <td>159072.000000</td>\n",
       "      <td>106347.000000</td>\n",
       "      <td>NaN</td>\n",
       "    </tr>\n",
       "  </tbody>\n",
       "</table>\n",
       "</div>"
      ],
      "text/plain": [
       "              year      month    appId      score  thumbsUpCount  \\\n",
       "count     72.00000  72.000000       72  72.000000      72.000000   \n",
       "unique         NaN        NaN        6        NaN            NaN   \n",
       "top            NaN        NaN  Hay Day        NaN            NaN   \n",
       "freq           NaN        NaN       14        NaN            NaN   \n",
       "mean    2020.37500   6.166667      NaN   4.148183   28911.083333   \n",
       "std        0.48752   3.267424      NaN   0.235614   36201.343745   \n",
       "min     2020.00000   1.000000      NaN   3.660916       5.000000   \n",
       "25%     2020.00000   4.000000      NaN   4.006792    3756.000000   \n",
       "50%     2020.00000   5.000000      NaN   4.197695   15752.500000   \n",
       "75%     2021.00000   9.000000      NaN   4.360618   33363.250000   \n",
       "max     2021.00000  12.000000      NaN   4.499328  159072.000000   \n",
       "\n",
       "                count Monthly date  \n",
       "count       72.000000           72  \n",
       "unique            NaN           14  \n",
       "top               NaN       2021-5  \n",
       "freq              NaN            6  \n",
       "mean     18034.875000          NaN  \n",
       "std      24187.504233          NaN  \n",
       "min          6.000000          NaN  \n",
       "25%       2437.250000          NaN  \n",
       "50%      10842.500000          NaN  \n",
       "75%      21569.500000          NaN  \n",
       "max     106347.000000          NaN  "
      ]
     },
     "execution_count": 142,
     "metadata": {},
     "output_type": "execute_result"
    }
   ],
   "source": [
    "# Here we create a summary statistics to check the date so we know from where to start and end \n",
    "df_month.describe(include = 'all')"
   ]
  },
  {
   "cell_type": "markdown",
   "id": "150dc80d",
   "metadata": {},
   "source": [
    "## Creating visualisation for the monthly data"
   ]
  },
  {
   "cell_type": "code",
   "execution_count": 143,
   "id": "25825597",
   "metadata": {},
   "outputs": [],
   "source": [
    "# Here we import the library that we will be using for visualisation\n",
    "import plotly.express as px\n",
    "\n"
   ]
  },
  {
   "cell_type": "markdown",
   "id": "77c56c1f",
   "metadata": {},
   "source": [
    "#### This is an interactive chart where you can gain a lot of information by running your arrow on the line, it displays, the average score per a month, date, thumbs up count and the count of players who left a review. Thumbs up count translate to how interactive are players with the review posted, the higher the Thumbs up count means that a lot of people agree with a certain review. The score is out of 5.\n",
    "\n",
    "#### You can switch the app name on and off depending on what you want to see. In this case I am showing a comparison between Supercell's apps for between April 2020 and May 2021 to see which of them has the highest score, number of reviews and engaging these reviews which is expressed as thumbs up count.\n",
    "\n",
    "#### It was quite expected to see Clash of Clans to lead the chart as the highest reviews in term of every aspect and comes at lowest place Clash Royal in term of score but the views has a very high count number and engagement level. At mid range we see Boom Beach quite stable in its scoring as the line doesn't fluctuate that much at around 4.3. \n",
    "\n",
    "#### It is important to note that these are only the scores of the people who left a review, this chart doesnt include the scores of players who didn't leave a review. The review will be used to run a sentiment analysis later on this project."
   ]
  },
  {
   "cell_type": "code",
   "execution_count": 144,
   "id": "6c72e094",
   "metadata": {
    "scrolled": true
   },
   "outputs": [
    {
     "data": {
      "application/vnd.plotly.v1+json": {
       "config": {
        "plotlyServerURL": "https://plot.ly"
       },
       "data": [
        {
         "customdata": [
          [
           2996,
           2584
          ],
          [
           2386,
           1421
          ],
          [
           3200,
           1298
          ],
          [
           2478,
           1325
          ],
          [
           6694,
           2697
          ],
          [
           3678,
           1302
          ],
          [
           1461,
           1280
          ],
          [
           3875,
           1196
          ],
          [
           1587,
           1119
          ],
          [
           3445,
           941
          ],
          [
           3433,
           908
          ],
          [
           2525,
           1043
          ],
          [
           1519,
           873
          ],
          [
           41,
           26
          ]
         ],
         "hovertemplate": "App Name=Boom Beach<br>Monthly date=%{x}<br>Average Score per a month=%{y}<br>Thumbs Up Count=%{customdata[0]}<br>count=%{customdata[1]}<extra></extra>",
         "legendgroup": "Boom Beach",
         "line": {
          "color": "#636efa",
          "dash": "solid"
         },
         "mode": "lines",
         "name": "Boom Beach",
         "orientation": "v",
         "showlegend": true,
         "type": "scatter",
         "x": [
          "2020-4",
          "2020-5",
          "2020-6",
          "2020-7",
          "2020-8",
          "2020-9",
          "2020-10",
          "2020-11",
          "2020-12",
          "2021-1",
          "2021-2",
          "2021-3",
          "2021-4",
          "2021-5"
         ],
         "xaxis": "x",
         "y": [
          4.197368421052632,
          4.210415200562984,
          4.224191063174114,
          4.145660377358491,
          4.17945865776789,
          4.141321044546851,
          4.13203125,
          4.236622073578595,
          4.19124218051832,
          4.114771519659937,
          4.143171806167401,
          4.11601150527325,
          4.120274914089347,
          4.153846153846154
         ],
         "yaxis": "y"
        },
        {
         "customdata": [
          [
           9327,
           10459
          ],
          [
           21781,
           22156
          ],
          [
           15616,
           13511
          ],
          [
           30208,
           23328
          ],
          [
           15286,
           11226
          ],
          [
           26824,
           19336
          ],
          [
           28648,
           18749
          ],
          [
           32996,
           19220
          ],
          [
           45097,
           22375
          ],
          [
           33802,
           20851
          ],
          [
           22128,
           11588
          ],
          [
           48972,
           29309
          ],
          [
           53697,
           24112
          ],
          [
           1226,
           651
          ]
         ],
         "hovertemplate": "App Name=Brawl Stars<br>Monthly date=%{x}<br>Average Score per a month=%{y}<br>Thumbs Up Count=%{customdata[0]}<br>count=%{customdata[1]}<extra></extra>",
         "legendgroup": "Brawl Stars",
         "line": {
          "color": "#EF553B",
          "dash": "solid"
         },
         "mode": "lines",
         "name": "Brawl Stars",
         "orientation": "v",
         "showlegend": true,
         "type": "scatter",
         "x": [
          "2020-4",
          "2020-5",
          "2020-6",
          "2020-7",
          "2020-8",
          "2020-9",
          "2020-10",
          "2020-11",
          "2020-12",
          "2021-1",
          "2021-2",
          "2021-3",
          "2021-4",
          "2021-5"
         ],
         "xaxis": "x",
         "y": [
          4.238263696338082,
          4.362339772522116,
          4.26408111908815,
          4.379200960219479,
          4.19802244788883,
          4.367966487381051,
          4.416128860205878,
          4.412747138397503,
          4.36004469273743,
          4.438492158649465,
          4.227390403866068,
          4.3019891500904155,
          4.266547777040477,
          3.9170506912442398
         ],
         "yaxis": "y"
        },
        {
         "customdata": [
          [
           14580,
           13785
          ],
          [
           15889,
           14684
          ],
          [
           23552,
           12898
          ],
          [
           18512,
           12992
          ],
          [
           27563,
           21374
          ],
          [
           32218,
           20012
          ],
          [
           23986,
           12572
          ],
          [
           42298,
           27824
          ],
          [
           33217,
           14354
          ],
          [
           20542,
           11972
          ],
          [
           15018,
           9851
          ],
          [
           53901,
           21253
          ],
          [
           30535,
           13970
          ],
          [
           944,
           423
          ]
         ],
         "hovertemplate": "App Name=Clash Royale<br>Monthly date=%{x}<br>Average Score per a month=%{y}<br>Thumbs Up Count=%{customdata[0]}<br>count=%{customdata[1]}<extra></extra>",
         "legendgroup": "Clash Royale",
         "line": {
          "color": "#00cc96",
          "dash": "solid"
         },
         "mode": "lines",
         "name": "Clash Royale",
         "orientation": "v",
         "showlegend": true,
         "type": "scatter",
         "x": [
          "2020-4",
          "2020-5",
          "2020-6",
          "2020-7",
          "2020-8",
          "2020-9",
          "2020-10",
          "2020-11",
          "2020-12",
          "2021-1",
          "2021-2",
          "2021-3",
          "2021-4",
          "2021-5"
         ],
         "xaxis": "x",
         "y": [
          3.8281465360899527,
          3.8667256878234815,
          3.8787408900604743,
          3.883466748768473,
          4.085898755497333,
          3.680991405156906,
          3.7363983455297487,
          4.030010063254744,
          3.714992336630904,
          3.689943200801871,
          3.762663688965587,
          4.010022114525008,
          3.6609162491052256,
          3.765957446808511
         ],
         "yaxis": "y"
        },
        {
         "customdata": [
          [
           1702,
           3239
          ],
          [
           52166,
           51378
          ],
          [
           126072,
           102073
          ],
          [
           98969,
           65826
          ],
          [
           90317,
           49909
          ],
          [
           74906,
           46180
          ],
          [
           143267,
           106347
          ],
          [
           88923,
           45424
          ],
          [
           159072,
           101320
          ],
          [
           50429,
           37182
          ],
          [
           55515,
           29767
          ],
          [
           70764,
           32873
          ],
          [
           141416,
           82509
          ],
          [
           7225,
           3106
          ]
         ],
         "hovertemplate": "App Name=Clash of Clans<br>Monthly date=%{x}<br>Average Score per a month=%{y}<br>Thumbs Up Count=%{customdata[0]}<br>count=%{customdata[1]}<extra></extra>",
         "legendgroup": "Clash of Clans",
         "line": {
          "color": "#ab63fa",
          "dash": "solid"
         },
         "mode": "lines",
         "name": "Clash of Clans",
         "orientation": "v",
         "showlegend": true,
         "type": "scatter",
         "x": [
          "2020-4",
          "2020-5",
          "2020-6",
          "2020-7",
          "2020-8",
          "2020-9",
          "2020-10",
          "2020-11",
          "2020-12",
          "2021-1",
          "2021-2",
          "2021-3",
          "2021-4",
          "2021-5"
         ],
         "xaxis": "x",
         "y": [
          4.445507872800247,
          4.3878508310950215,
          4.436550312031585,
          4.349026220642299,
          4.423090023843395,
          4.38685578172369,
          4.49932767261888,
          4.420306445931666,
          4.39257797078563,
          4.410736377817224,
          4.395941814761313,
          4.389103519605755,
          4.337732853385691,
          3.997102382485512
         ],
         "yaxis": "y"
        },
        {
         "customdata": [
          [
           10918,
           7821
          ],
          [
           3782,
           4383
          ],
          [
           16349,
           8404
          ],
          [
           15926,
           7788
          ],
          [
           8870,
           4284
          ],
          [
           5391,
           3623
          ],
          [
           9044,
           3389
          ],
          [
           14373,
           7662
          ],
          [
           9942,
           5978
          ],
          [
           6150,
           2811
          ],
          [
           11082,
           2369
          ],
          [
           8150,
           2460
          ],
          [
           21571,
           6683
          ],
          [
           480,
           153
          ]
         ],
         "hovertemplate": "App Name=Hay Day<br>Monthly date=%{x}<br>Average Score per a month=%{y}<br>Thumbs Up Count=%{customdata[0]}<br>count=%{customdata[1]}<extra></extra>",
         "legendgroup": "Hay Day",
         "line": {
          "color": "#FFA15A",
          "dash": "solid"
         },
         "mode": "lines",
         "name": "Hay Day",
         "orientation": "v",
         "showlegend": true,
         "type": "scatter",
         "x": [
          "2020-4",
          "2020-5",
          "2020-6",
          "2020-7",
          "2020-8",
          "2020-9",
          "2020-10",
          "2020-11",
          "2020-12",
          "2021-1",
          "2021-2",
          "2021-3",
          "2021-4",
          "2021-5"
         ],
         "xaxis": "x",
         "y": [
          4.103311596982483,
          4.2715035363906,
          4.326035221323179,
          3.989984591679507,
          3.7817460317460316,
          3.736682307479989,
          3.8433166125700797,
          4.165100495954059,
          4.372532619605219,
          4.224119530416222,
          4.051498522583368,
          4.119105691056911,
          4.254676043692952,
          4.228758169934641
         ],
         "yaxis": "y"
        },
        {
         "customdata": [
          [
           1141,
           716
          ],
          [
           5,
           6
          ]
         ],
         "hovertemplate": "App Name=Clash  Quest<br>Monthly date=%{x}<br>Average Score per a month=%{y}<br>Thumbs Up Count=%{customdata[0]}<br>count=%{customdata[1]}<extra></extra>",
         "legendgroup": "Clash  Quest",
         "line": {
          "color": "#19d3f3",
          "dash": "solid"
         },
         "mode": "lines",
         "name": "Clash  Quest",
         "orientation": "v",
         "showlegend": true,
         "type": "scatter",
         "x": [
          "2021-4",
          "2021-5"
         ],
         "xaxis": "x",
         "y": [
          4.210893854748603,
          3.6666666666666665
         ],
         "yaxis": "y"
        }
       ],
       "layout": {
        "legend": {
         "title": {
          "text": "App Name"
         },
         "tracegroupgap": 0
        },
        "margin": {
         "t": 60
        },
        "template": {
         "data": {
          "bar": [
           {
            "error_x": {
             "color": "#2a3f5f"
            },
            "error_y": {
             "color": "#2a3f5f"
            },
            "marker": {
             "line": {
              "color": "#E5ECF6",
              "width": 0.5
             }
            },
            "type": "bar"
           }
          ],
          "barpolar": [
           {
            "marker": {
             "line": {
              "color": "#E5ECF6",
              "width": 0.5
             }
            },
            "type": "barpolar"
           }
          ],
          "carpet": [
           {
            "aaxis": {
             "endlinecolor": "#2a3f5f",
             "gridcolor": "white",
             "linecolor": "white",
             "minorgridcolor": "white",
             "startlinecolor": "#2a3f5f"
            },
            "baxis": {
             "endlinecolor": "#2a3f5f",
             "gridcolor": "white",
             "linecolor": "white",
             "minorgridcolor": "white",
             "startlinecolor": "#2a3f5f"
            },
            "type": "carpet"
           }
          ],
          "choropleth": [
           {
            "colorbar": {
             "outlinewidth": 0,
             "ticks": ""
            },
            "type": "choropleth"
           }
          ],
          "contour": [
           {
            "colorbar": {
             "outlinewidth": 0,
             "ticks": ""
            },
            "colorscale": [
             [
              0,
              "#0d0887"
             ],
             [
              0.1111111111111111,
              "#46039f"
             ],
             [
              0.2222222222222222,
              "#7201a8"
             ],
             [
              0.3333333333333333,
              "#9c179e"
             ],
             [
              0.4444444444444444,
              "#bd3786"
             ],
             [
              0.5555555555555556,
              "#d8576b"
             ],
             [
              0.6666666666666666,
              "#ed7953"
             ],
             [
              0.7777777777777778,
              "#fb9f3a"
             ],
             [
              0.8888888888888888,
              "#fdca26"
             ],
             [
              1,
              "#f0f921"
             ]
            ],
            "type": "contour"
           }
          ],
          "contourcarpet": [
           {
            "colorbar": {
             "outlinewidth": 0,
             "ticks": ""
            },
            "type": "contourcarpet"
           }
          ],
          "heatmap": [
           {
            "colorbar": {
             "outlinewidth": 0,
             "ticks": ""
            },
            "colorscale": [
             [
              0,
              "#0d0887"
             ],
             [
              0.1111111111111111,
              "#46039f"
             ],
             [
              0.2222222222222222,
              "#7201a8"
             ],
             [
              0.3333333333333333,
              "#9c179e"
             ],
             [
              0.4444444444444444,
              "#bd3786"
             ],
             [
              0.5555555555555556,
              "#d8576b"
             ],
             [
              0.6666666666666666,
              "#ed7953"
             ],
             [
              0.7777777777777778,
              "#fb9f3a"
             ],
             [
              0.8888888888888888,
              "#fdca26"
             ],
             [
              1,
              "#f0f921"
             ]
            ],
            "type": "heatmap"
           }
          ],
          "heatmapgl": [
           {
            "colorbar": {
             "outlinewidth": 0,
             "ticks": ""
            },
            "colorscale": [
             [
              0,
              "#0d0887"
             ],
             [
              0.1111111111111111,
              "#46039f"
             ],
             [
              0.2222222222222222,
              "#7201a8"
             ],
             [
              0.3333333333333333,
              "#9c179e"
             ],
             [
              0.4444444444444444,
              "#bd3786"
             ],
             [
              0.5555555555555556,
              "#d8576b"
             ],
             [
              0.6666666666666666,
              "#ed7953"
             ],
             [
              0.7777777777777778,
              "#fb9f3a"
             ],
             [
              0.8888888888888888,
              "#fdca26"
             ],
             [
              1,
              "#f0f921"
             ]
            ],
            "type": "heatmapgl"
           }
          ],
          "histogram": [
           {
            "marker": {
             "colorbar": {
              "outlinewidth": 0,
              "ticks": ""
             }
            },
            "type": "histogram"
           }
          ],
          "histogram2d": [
           {
            "colorbar": {
             "outlinewidth": 0,
             "ticks": ""
            },
            "colorscale": [
             [
              0,
              "#0d0887"
             ],
             [
              0.1111111111111111,
              "#46039f"
             ],
             [
              0.2222222222222222,
              "#7201a8"
             ],
             [
              0.3333333333333333,
              "#9c179e"
             ],
             [
              0.4444444444444444,
              "#bd3786"
             ],
             [
              0.5555555555555556,
              "#d8576b"
             ],
             [
              0.6666666666666666,
              "#ed7953"
             ],
             [
              0.7777777777777778,
              "#fb9f3a"
             ],
             [
              0.8888888888888888,
              "#fdca26"
             ],
             [
              1,
              "#f0f921"
             ]
            ],
            "type": "histogram2d"
           }
          ],
          "histogram2dcontour": [
           {
            "colorbar": {
             "outlinewidth": 0,
             "ticks": ""
            },
            "colorscale": [
             [
              0,
              "#0d0887"
             ],
             [
              0.1111111111111111,
              "#46039f"
             ],
             [
              0.2222222222222222,
              "#7201a8"
             ],
             [
              0.3333333333333333,
              "#9c179e"
             ],
             [
              0.4444444444444444,
              "#bd3786"
             ],
             [
              0.5555555555555556,
              "#d8576b"
             ],
             [
              0.6666666666666666,
              "#ed7953"
             ],
             [
              0.7777777777777778,
              "#fb9f3a"
             ],
             [
              0.8888888888888888,
              "#fdca26"
             ],
             [
              1,
              "#f0f921"
             ]
            ],
            "type": "histogram2dcontour"
           }
          ],
          "mesh3d": [
           {
            "colorbar": {
             "outlinewidth": 0,
             "ticks": ""
            },
            "type": "mesh3d"
           }
          ],
          "parcoords": [
           {
            "line": {
             "colorbar": {
              "outlinewidth": 0,
              "ticks": ""
             }
            },
            "type": "parcoords"
           }
          ],
          "pie": [
           {
            "automargin": true,
            "type": "pie"
           }
          ],
          "scatter": [
           {
            "marker": {
             "colorbar": {
              "outlinewidth": 0,
              "ticks": ""
             }
            },
            "type": "scatter"
           }
          ],
          "scatter3d": [
           {
            "line": {
             "colorbar": {
              "outlinewidth": 0,
              "ticks": ""
             }
            },
            "marker": {
             "colorbar": {
              "outlinewidth": 0,
              "ticks": ""
             }
            },
            "type": "scatter3d"
           }
          ],
          "scattercarpet": [
           {
            "marker": {
             "colorbar": {
              "outlinewidth": 0,
              "ticks": ""
             }
            },
            "type": "scattercarpet"
           }
          ],
          "scattergeo": [
           {
            "marker": {
             "colorbar": {
              "outlinewidth": 0,
              "ticks": ""
             }
            },
            "type": "scattergeo"
           }
          ],
          "scattergl": [
           {
            "marker": {
             "colorbar": {
              "outlinewidth": 0,
              "ticks": ""
             }
            },
            "type": "scattergl"
           }
          ],
          "scattermapbox": [
           {
            "marker": {
             "colorbar": {
              "outlinewidth": 0,
              "ticks": ""
             }
            },
            "type": "scattermapbox"
           }
          ],
          "scatterpolar": [
           {
            "marker": {
             "colorbar": {
              "outlinewidth": 0,
              "ticks": ""
             }
            },
            "type": "scatterpolar"
           }
          ],
          "scatterpolargl": [
           {
            "marker": {
             "colorbar": {
              "outlinewidth": 0,
              "ticks": ""
             }
            },
            "type": "scatterpolargl"
           }
          ],
          "scatterternary": [
           {
            "marker": {
             "colorbar": {
              "outlinewidth": 0,
              "ticks": ""
             }
            },
            "type": "scatterternary"
           }
          ],
          "surface": [
           {
            "colorbar": {
             "outlinewidth": 0,
             "ticks": ""
            },
            "colorscale": [
             [
              0,
              "#0d0887"
             ],
             [
              0.1111111111111111,
              "#46039f"
             ],
             [
              0.2222222222222222,
              "#7201a8"
             ],
             [
              0.3333333333333333,
              "#9c179e"
             ],
             [
              0.4444444444444444,
              "#bd3786"
             ],
             [
              0.5555555555555556,
              "#d8576b"
             ],
             [
              0.6666666666666666,
              "#ed7953"
             ],
             [
              0.7777777777777778,
              "#fb9f3a"
             ],
             [
              0.8888888888888888,
              "#fdca26"
             ],
             [
              1,
              "#f0f921"
             ]
            ],
            "type": "surface"
           }
          ],
          "table": [
           {
            "cells": {
             "fill": {
              "color": "#EBF0F8"
             },
             "line": {
              "color": "white"
             }
            },
            "header": {
             "fill": {
              "color": "#C8D4E3"
             },
             "line": {
              "color": "white"
             }
            },
            "type": "table"
           }
          ]
         },
         "layout": {
          "annotationdefaults": {
           "arrowcolor": "#2a3f5f",
           "arrowhead": 0,
           "arrowwidth": 1
          },
          "autotypenumbers": "strict",
          "coloraxis": {
           "colorbar": {
            "outlinewidth": 0,
            "ticks": ""
           }
          },
          "colorscale": {
           "diverging": [
            [
             0,
             "#8e0152"
            ],
            [
             0.1,
             "#c51b7d"
            ],
            [
             0.2,
             "#de77ae"
            ],
            [
             0.3,
             "#f1b6da"
            ],
            [
             0.4,
             "#fde0ef"
            ],
            [
             0.5,
             "#f7f7f7"
            ],
            [
             0.6,
             "#e6f5d0"
            ],
            [
             0.7,
             "#b8e186"
            ],
            [
             0.8,
             "#7fbc41"
            ],
            [
             0.9,
             "#4d9221"
            ],
            [
             1,
             "#276419"
            ]
           ],
           "sequential": [
            [
             0,
             "#0d0887"
            ],
            [
             0.1111111111111111,
             "#46039f"
            ],
            [
             0.2222222222222222,
             "#7201a8"
            ],
            [
             0.3333333333333333,
             "#9c179e"
            ],
            [
             0.4444444444444444,
             "#bd3786"
            ],
            [
             0.5555555555555556,
             "#d8576b"
            ],
            [
             0.6666666666666666,
             "#ed7953"
            ],
            [
             0.7777777777777778,
             "#fb9f3a"
            ],
            [
             0.8888888888888888,
             "#fdca26"
            ],
            [
             1,
             "#f0f921"
            ]
           ],
           "sequentialminus": [
            [
             0,
             "#0d0887"
            ],
            [
             0.1111111111111111,
             "#46039f"
            ],
            [
             0.2222222222222222,
             "#7201a8"
            ],
            [
             0.3333333333333333,
             "#9c179e"
            ],
            [
             0.4444444444444444,
             "#bd3786"
            ],
            [
             0.5555555555555556,
             "#d8576b"
            ],
            [
             0.6666666666666666,
             "#ed7953"
            ],
            [
             0.7777777777777778,
             "#fb9f3a"
            ],
            [
             0.8888888888888888,
             "#fdca26"
            ],
            [
             1,
             "#f0f921"
            ]
           ]
          },
          "colorway": [
           "#636efa",
           "#EF553B",
           "#00cc96",
           "#ab63fa",
           "#FFA15A",
           "#19d3f3",
           "#FF6692",
           "#B6E880",
           "#FF97FF",
           "#FECB52"
          ],
          "font": {
           "color": "#2a3f5f"
          },
          "geo": {
           "bgcolor": "white",
           "lakecolor": "white",
           "landcolor": "#E5ECF6",
           "showlakes": true,
           "showland": true,
           "subunitcolor": "white"
          },
          "hoverlabel": {
           "align": "left"
          },
          "hovermode": "closest",
          "mapbox": {
           "style": "light"
          },
          "paper_bgcolor": "white",
          "plot_bgcolor": "#E5ECF6",
          "polar": {
           "angularaxis": {
            "gridcolor": "white",
            "linecolor": "white",
            "ticks": ""
           },
           "bgcolor": "#E5ECF6",
           "radialaxis": {
            "gridcolor": "white",
            "linecolor": "white",
            "ticks": ""
           }
          },
          "scene": {
           "xaxis": {
            "backgroundcolor": "#E5ECF6",
            "gridcolor": "white",
            "gridwidth": 2,
            "linecolor": "white",
            "showbackground": true,
            "ticks": "",
            "zerolinecolor": "white"
           },
           "yaxis": {
            "backgroundcolor": "#E5ECF6",
            "gridcolor": "white",
            "gridwidth": 2,
            "linecolor": "white",
            "showbackground": true,
            "ticks": "",
            "zerolinecolor": "white"
           },
           "zaxis": {
            "backgroundcolor": "#E5ECF6",
            "gridcolor": "white",
            "gridwidth": 2,
            "linecolor": "white",
            "showbackground": true,
            "ticks": "",
            "zerolinecolor": "white"
           }
          },
          "shapedefaults": {
           "line": {
            "color": "#2a3f5f"
           }
          },
          "ternary": {
           "aaxis": {
            "gridcolor": "white",
            "linecolor": "white",
            "ticks": ""
           },
           "baxis": {
            "gridcolor": "white",
            "linecolor": "white",
            "ticks": ""
           },
           "bgcolor": "#E5ECF6",
           "caxis": {
            "gridcolor": "white",
            "linecolor": "white",
            "ticks": ""
           }
          },
          "title": {
           "x": 0.05
          },
          "xaxis": {
           "automargin": true,
           "gridcolor": "white",
           "linecolor": "white",
           "ticks": "",
           "title": {
            "standoff": 15
           },
           "zerolinecolor": "white",
           "zerolinewidth": 2
          },
          "yaxis": {
           "automargin": true,
           "gridcolor": "white",
           "linecolor": "white",
           "ticks": "",
           "title": {
            "standoff": 15
           },
           "zerolinecolor": "white",
           "zerolinewidth": 2
          }
         }
        },
        "xaxis": {
         "anchor": "y",
         "domain": [
          0,
          1
         ],
         "title": {
          "text": "Monthly date"
         }
        },
        "yaxis": {
         "anchor": "x",
         "domain": [
          0,
          1
         ],
         "range": [
          1,
          5.1
         ],
         "title": {
          "text": "Average Score per a month"
         }
        }
       }
      },
      "text/html": [
       "<div>                            <div id=\"c43547f9-310e-4c80-b002-7d19ea7ebcb3\" class=\"plotly-graph-div\" style=\"height:525px; width:100%;\"></div>            <script type=\"text/javascript\">                require([\"plotly\"], function(Plotly) {                    window.PLOTLYENV=window.PLOTLYENV || {};                                    if (document.getElementById(\"c43547f9-310e-4c80-b002-7d19ea7ebcb3\")) {                    Plotly.newPlot(                        \"c43547f9-310e-4c80-b002-7d19ea7ebcb3\",                        [{\"customdata\": [[2996, 2584], [2386, 1421], [3200, 1298], [2478, 1325], [6694, 2697], [3678, 1302], [1461, 1280], [3875, 1196], [1587, 1119], [3445, 941], [3433, 908], [2525, 1043], [1519, 873], [41, 26]], \"hovertemplate\": \"App Name=Boom Beach<br>Monthly date=%{x}<br>Average Score per a month=%{y}<br>Thumbs Up Count=%{customdata[0]}<br>count=%{customdata[1]}<extra></extra>\", \"legendgroup\": \"Boom Beach\", \"line\": {\"color\": \"#636efa\", \"dash\": \"solid\"}, \"mode\": \"lines\", \"name\": \"Boom Beach\", \"orientation\": \"v\", \"showlegend\": true, \"type\": \"scatter\", \"x\": [\"2020-4\", \"2020-5\", \"2020-6\", \"2020-7\", \"2020-8\", \"2020-9\", \"2020-10\", \"2020-11\", \"2020-12\", \"2021-1\", \"2021-2\", \"2021-3\", \"2021-4\", \"2021-5\"], \"xaxis\": \"x\", \"y\": [4.197368421052632, 4.210415200562984, 4.224191063174114, 4.145660377358491, 4.17945865776789, 4.141321044546851, 4.13203125, 4.236622073578595, 4.19124218051832, 4.114771519659937, 4.143171806167401, 4.11601150527325, 4.120274914089347, 4.153846153846154], \"yaxis\": \"y\"}, {\"customdata\": [[9327, 10459], [21781, 22156], [15616, 13511], [30208, 23328], [15286, 11226], [26824, 19336], [28648, 18749], [32996, 19220], [45097, 22375], [33802, 20851], [22128, 11588], [48972, 29309], [53697, 24112], [1226, 651]], \"hovertemplate\": \"App Name=Brawl Stars<br>Monthly date=%{x}<br>Average Score per a month=%{y}<br>Thumbs Up Count=%{customdata[0]}<br>count=%{customdata[1]}<extra></extra>\", \"legendgroup\": \"Brawl Stars\", \"line\": {\"color\": \"#EF553B\", \"dash\": \"solid\"}, \"mode\": \"lines\", \"name\": \"Brawl Stars\", \"orientation\": \"v\", \"showlegend\": true, \"type\": \"scatter\", \"x\": [\"2020-4\", \"2020-5\", \"2020-6\", \"2020-7\", \"2020-8\", \"2020-9\", \"2020-10\", \"2020-11\", \"2020-12\", \"2021-1\", \"2021-2\", \"2021-3\", \"2021-4\", \"2021-5\"], \"xaxis\": \"x\", \"y\": [4.238263696338082, 4.362339772522116, 4.26408111908815, 4.379200960219479, 4.19802244788883, 4.367966487381051, 4.416128860205878, 4.412747138397503, 4.36004469273743, 4.438492158649465, 4.227390403866068, 4.3019891500904155, 4.266547777040477, 3.9170506912442398], \"yaxis\": \"y\"}, {\"customdata\": [[14580, 13785], [15889, 14684], [23552, 12898], [18512, 12992], [27563, 21374], [32218, 20012], [23986, 12572], [42298, 27824], [33217, 14354], [20542, 11972], [15018, 9851], [53901, 21253], [30535, 13970], [944, 423]], \"hovertemplate\": \"App Name=Clash Royale<br>Monthly date=%{x}<br>Average Score per a month=%{y}<br>Thumbs Up Count=%{customdata[0]}<br>count=%{customdata[1]}<extra></extra>\", \"legendgroup\": \"Clash Royale\", \"line\": {\"color\": \"#00cc96\", \"dash\": \"solid\"}, \"mode\": \"lines\", \"name\": \"Clash Royale\", \"orientation\": \"v\", \"showlegend\": true, \"type\": \"scatter\", \"x\": [\"2020-4\", \"2020-5\", \"2020-6\", \"2020-7\", \"2020-8\", \"2020-9\", \"2020-10\", \"2020-11\", \"2020-12\", \"2021-1\", \"2021-2\", \"2021-3\", \"2021-4\", \"2021-5\"], \"xaxis\": \"x\", \"y\": [3.8281465360899527, 3.8667256878234815, 3.8787408900604743, 3.883466748768473, 4.085898755497333, 3.680991405156906, 3.7363983455297487, 4.030010063254744, 3.714992336630904, 3.689943200801871, 3.762663688965587, 4.010022114525008, 3.6609162491052256, 3.765957446808511], \"yaxis\": \"y\"}, {\"customdata\": [[1702, 3239], [52166, 51378], [126072, 102073], [98969, 65826], [90317, 49909], [74906, 46180], [143267, 106347], [88923, 45424], [159072, 101320], [50429, 37182], [55515, 29767], [70764, 32873], [141416, 82509], [7225, 3106]], \"hovertemplate\": \"App Name=Clash of Clans<br>Monthly date=%{x}<br>Average Score per a month=%{y}<br>Thumbs Up Count=%{customdata[0]}<br>count=%{customdata[1]}<extra></extra>\", \"legendgroup\": \"Clash of Clans\", \"line\": {\"color\": \"#ab63fa\", \"dash\": \"solid\"}, \"mode\": \"lines\", \"name\": \"Clash of Clans\", \"orientation\": \"v\", \"showlegend\": true, \"type\": \"scatter\", \"x\": [\"2020-4\", \"2020-5\", \"2020-6\", \"2020-7\", \"2020-8\", \"2020-9\", \"2020-10\", \"2020-11\", \"2020-12\", \"2021-1\", \"2021-2\", \"2021-3\", \"2021-4\", \"2021-5\"], \"xaxis\": \"x\", \"y\": [4.445507872800247, 4.3878508310950215, 4.436550312031585, 4.349026220642299, 4.423090023843395, 4.38685578172369, 4.49932767261888, 4.420306445931666, 4.39257797078563, 4.410736377817224, 4.395941814761313, 4.389103519605755, 4.337732853385691, 3.997102382485512], \"yaxis\": \"y\"}, {\"customdata\": [[10918, 7821], [3782, 4383], [16349, 8404], [15926, 7788], [8870, 4284], [5391, 3623], [9044, 3389], [14373, 7662], [9942, 5978], [6150, 2811], [11082, 2369], [8150, 2460], [21571, 6683], [480, 153]], \"hovertemplate\": \"App Name=Hay Day<br>Monthly date=%{x}<br>Average Score per a month=%{y}<br>Thumbs Up Count=%{customdata[0]}<br>count=%{customdata[1]}<extra></extra>\", \"legendgroup\": \"Hay Day\", \"line\": {\"color\": \"#FFA15A\", \"dash\": \"solid\"}, \"mode\": \"lines\", \"name\": \"Hay Day\", \"orientation\": \"v\", \"showlegend\": true, \"type\": \"scatter\", \"x\": [\"2020-4\", \"2020-5\", \"2020-6\", \"2020-7\", \"2020-8\", \"2020-9\", \"2020-10\", \"2020-11\", \"2020-12\", \"2021-1\", \"2021-2\", \"2021-3\", \"2021-4\", \"2021-5\"], \"xaxis\": \"x\", \"y\": [4.103311596982483, 4.2715035363906, 4.326035221323179, 3.989984591679507, 3.7817460317460316, 3.736682307479989, 3.8433166125700797, 4.165100495954059, 4.372532619605219, 4.224119530416222, 4.051498522583368, 4.119105691056911, 4.254676043692952, 4.228758169934641], \"yaxis\": \"y\"}, {\"customdata\": [[1141, 716], [5, 6]], \"hovertemplate\": \"App Name=Clash  Quest<br>Monthly date=%{x}<br>Average Score per a month=%{y}<br>Thumbs Up Count=%{customdata[0]}<br>count=%{customdata[1]}<extra></extra>\", \"legendgroup\": \"Clash  Quest\", \"line\": {\"color\": \"#19d3f3\", \"dash\": \"solid\"}, \"mode\": \"lines\", \"name\": \"Clash  Quest\", \"orientation\": \"v\", \"showlegend\": true, \"type\": \"scatter\", \"x\": [\"2021-4\", \"2021-5\"], \"xaxis\": \"x\", \"y\": [4.210893854748603, 3.6666666666666665], \"yaxis\": \"y\"}],                        {\"legend\": {\"title\": {\"text\": \"App Name\"}, \"tracegroupgap\": 0}, \"margin\": {\"t\": 60}, \"template\": {\"data\": {\"bar\": [{\"error_x\": {\"color\": \"#2a3f5f\"}, \"error_y\": {\"color\": \"#2a3f5f\"}, \"marker\": {\"line\": {\"color\": \"#E5ECF6\", \"width\": 0.5}}, \"type\": \"bar\"}], \"barpolar\": [{\"marker\": {\"line\": {\"color\": \"#E5ECF6\", \"width\": 0.5}}, \"type\": \"barpolar\"}], \"carpet\": [{\"aaxis\": {\"endlinecolor\": \"#2a3f5f\", \"gridcolor\": \"white\", \"linecolor\": \"white\", \"minorgridcolor\": \"white\", \"startlinecolor\": \"#2a3f5f\"}, \"baxis\": {\"endlinecolor\": \"#2a3f5f\", \"gridcolor\": \"white\", \"linecolor\": \"white\", \"minorgridcolor\": \"white\", \"startlinecolor\": \"#2a3f5f\"}, \"type\": \"carpet\"}], \"choropleth\": [{\"colorbar\": {\"outlinewidth\": 0, \"ticks\": \"\"}, \"type\": \"choropleth\"}], \"contour\": [{\"colorbar\": {\"outlinewidth\": 0, \"ticks\": \"\"}, \"colorscale\": [[0.0, \"#0d0887\"], [0.1111111111111111, \"#46039f\"], [0.2222222222222222, \"#7201a8\"], [0.3333333333333333, \"#9c179e\"], [0.4444444444444444, \"#bd3786\"], [0.5555555555555556, \"#d8576b\"], [0.6666666666666666, \"#ed7953\"], [0.7777777777777778, \"#fb9f3a\"], [0.8888888888888888, \"#fdca26\"], [1.0, \"#f0f921\"]], \"type\": \"contour\"}], \"contourcarpet\": [{\"colorbar\": {\"outlinewidth\": 0, \"ticks\": \"\"}, \"type\": \"contourcarpet\"}], \"heatmap\": [{\"colorbar\": {\"outlinewidth\": 0, \"ticks\": \"\"}, \"colorscale\": [[0.0, \"#0d0887\"], [0.1111111111111111, \"#46039f\"], [0.2222222222222222, \"#7201a8\"], [0.3333333333333333, \"#9c179e\"], [0.4444444444444444, \"#bd3786\"], [0.5555555555555556, \"#d8576b\"], [0.6666666666666666, \"#ed7953\"], [0.7777777777777778, \"#fb9f3a\"], [0.8888888888888888, \"#fdca26\"], [1.0, \"#f0f921\"]], \"type\": \"heatmap\"}], \"heatmapgl\": [{\"colorbar\": {\"outlinewidth\": 0, \"ticks\": \"\"}, \"colorscale\": [[0.0, \"#0d0887\"], [0.1111111111111111, \"#46039f\"], [0.2222222222222222, \"#7201a8\"], [0.3333333333333333, \"#9c179e\"], [0.4444444444444444, \"#bd3786\"], [0.5555555555555556, \"#d8576b\"], [0.6666666666666666, \"#ed7953\"], [0.7777777777777778, \"#fb9f3a\"], [0.8888888888888888, \"#fdca26\"], [1.0, \"#f0f921\"]], \"type\": \"heatmapgl\"}], \"histogram\": [{\"marker\": {\"colorbar\": {\"outlinewidth\": 0, \"ticks\": \"\"}}, \"type\": \"histogram\"}], \"histogram2d\": [{\"colorbar\": {\"outlinewidth\": 0, \"ticks\": \"\"}, \"colorscale\": [[0.0, \"#0d0887\"], [0.1111111111111111, \"#46039f\"], [0.2222222222222222, \"#7201a8\"], [0.3333333333333333, \"#9c179e\"], [0.4444444444444444, \"#bd3786\"], [0.5555555555555556, \"#d8576b\"], [0.6666666666666666, \"#ed7953\"], [0.7777777777777778, \"#fb9f3a\"], [0.8888888888888888, \"#fdca26\"], [1.0, \"#f0f921\"]], \"type\": \"histogram2d\"}], \"histogram2dcontour\": [{\"colorbar\": {\"outlinewidth\": 0, \"ticks\": \"\"}, \"colorscale\": [[0.0, \"#0d0887\"], [0.1111111111111111, \"#46039f\"], [0.2222222222222222, \"#7201a8\"], [0.3333333333333333, \"#9c179e\"], [0.4444444444444444, \"#bd3786\"], [0.5555555555555556, \"#d8576b\"], [0.6666666666666666, \"#ed7953\"], [0.7777777777777778, \"#fb9f3a\"], [0.8888888888888888, \"#fdca26\"], [1.0, \"#f0f921\"]], \"type\": \"histogram2dcontour\"}], \"mesh3d\": [{\"colorbar\": {\"outlinewidth\": 0, \"ticks\": \"\"}, \"type\": \"mesh3d\"}], \"parcoords\": [{\"line\": {\"colorbar\": {\"outlinewidth\": 0, \"ticks\": \"\"}}, \"type\": \"parcoords\"}], \"pie\": [{\"automargin\": true, \"type\": \"pie\"}], \"scatter\": [{\"marker\": {\"colorbar\": {\"outlinewidth\": 0, \"ticks\": \"\"}}, \"type\": \"scatter\"}], \"scatter3d\": [{\"line\": {\"colorbar\": {\"outlinewidth\": 0, \"ticks\": \"\"}}, \"marker\": {\"colorbar\": {\"outlinewidth\": 0, \"ticks\": \"\"}}, \"type\": \"scatter3d\"}], \"scattercarpet\": [{\"marker\": {\"colorbar\": {\"outlinewidth\": 0, \"ticks\": \"\"}}, \"type\": \"scattercarpet\"}], \"scattergeo\": [{\"marker\": {\"colorbar\": {\"outlinewidth\": 0, \"ticks\": \"\"}}, \"type\": \"scattergeo\"}], \"scattergl\": [{\"marker\": {\"colorbar\": {\"outlinewidth\": 0, \"ticks\": \"\"}}, \"type\": \"scattergl\"}], \"scattermapbox\": [{\"marker\": {\"colorbar\": {\"outlinewidth\": 0, \"ticks\": \"\"}}, \"type\": \"scattermapbox\"}], \"scatterpolar\": [{\"marker\": {\"colorbar\": {\"outlinewidth\": 0, \"ticks\": \"\"}}, \"type\": \"scatterpolar\"}], \"scatterpolargl\": [{\"marker\": {\"colorbar\": {\"outlinewidth\": 0, \"ticks\": \"\"}}, \"type\": \"scatterpolargl\"}], \"scatterternary\": [{\"marker\": {\"colorbar\": {\"outlinewidth\": 0, \"ticks\": \"\"}}, \"type\": \"scatterternary\"}], \"surface\": [{\"colorbar\": {\"outlinewidth\": 0, \"ticks\": \"\"}, \"colorscale\": [[0.0, \"#0d0887\"], [0.1111111111111111, \"#46039f\"], [0.2222222222222222, \"#7201a8\"], [0.3333333333333333, \"#9c179e\"], [0.4444444444444444, \"#bd3786\"], [0.5555555555555556, \"#d8576b\"], [0.6666666666666666, \"#ed7953\"], [0.7777777777777778, \"#fb9f3a\"], [0.8888888888888888, \"#fdca26\"], [1.0, \"#f0f921\"]], \"type\": \"surface\"}], \"table\": [{\"cells\": {\"fill\": {\"color\": \"#EBF0F8\"}, \"line\": {\"color\": \"white\"}}, \"header\": {\"fill\": {\"color\": \"#C8D4E3\"}, \"line\": {\"color\": \"white\"}}, \"type\": \"table\"}]}, \"layout\": {\"annotationdefaults\": {\"arrowcolor\": \"#2a3f5f\", \"arrowhead\": 0, \"arrowwidth\": 1}, \"autotypenumbers\": \"strict\", \"coloraxis\": {\"colorbar\": {\"outlinewidth\": 0, \"ticks\": \"\"}}, \"colorscale\": {\"diverging\": [[0, \"#8e0152\"], [0.1, \"#c51b7d\"], [0.2, \"#de77ae\"], [0.3, \"#f1b6da\"], [0.4, \"#fde0ef\"], [0.5, \"#f7f7f7\"], [0.6, \"#e6f5d0\"], [0.7, \"#b8e186\"], [0.8, \"#7fbc41\"], [0.9, \"#4d9221\"], [1, \"#276419\"]], \"sequential\": [[0.0, \"#0d0887\"], [0.1111111111111111, \"#46039f\"], [0.2222222222222222, \"#7201a8\"], [0.3333333333333333, \"#9c179e\"], [0.4444444444444444, \"#bd3786\"], [0.5555555555555556, \"#d8576b\"], [0.6666666666666666, \"#ed7953\"], [0.7777777777777778, \"#fb9f3a\"], [0.8888888888888888, \"#fdca26\"], [1.0, \"#f0f921\"]], \"sequentialminus\": [[0.0, \"#0d0887\"], [0.1111111111111111, \"#46039f\"], [0.2222222222222222, \"#7201a8\"], [0.3333333333333333, \"#9c179e\"], [0.4444444444444444, \"#bd3786\"], [0.5555555555555556, \"#d8576b\"], [0.6666666666666666, \"#ed7953\"], [0.7777777777777778, \"#fb9f3a\"], [0.8888888888888888, \"#fdca26\"], [1.0, \"#f0f921\"]]}, \"colorway\": [\"#636efa\", \"#EF553B\", \"#00cc96\", \"#ab63fa\", \"#FFA15A\", \"#19d3f3\", \"#FF6692\", \"#B6E880\", \"#FF97FF\", \"#FECB52\"], \"font\": {\"color\": \"#2a3f5f\"}, \"geo\": {\"bgcolor\": \"white\", \"lakecolor\": \"white\", \"landcolor\": \"#E5ECF6\", \"showlakes\": true, \"showland\": true, \"subunitcolor\": \"white\"}, \"hoverlabel\": {\"align\": \"left\"}, \"hovermode\": \"closest\", \"mapbox\": {\"style\": \"light\"}, \"paper_bgcolor\": \"white\", \"plot_bgcolor\": \"#E5ECF6\", \"polar\": {\"angularaxis\": {\"gridcolor\": \"white\", \"linecolor\": \"white\", \"ticks\": \"\"}, \"bgcolor\": \"#E5ECF6\", \"radialaxis\": {\"gridcolor\": \"white\", \"linecolor\": \"white\", \"ticks\": \"\"}}, \"scene\": {\"xaxis\": {\"backgroundcolor\": \"#E5ECF6\", \"gridcolor\": \"white\", \"gridwidth\": 2, \"linecolor\": \"white\", \"showbackground\": true, \"ticks\": \"\", \"zerolinecolor\": \"white\"}, \"yaxis\": {\"backgroundcolor\": \"#E5ECF6\", \"gridcolor\": \"white\", \"gridwidth\": 2, \"linecolor\": \"white\", \"showbackground\": true, \"ticks\": \"\", \"zerolinecolor\": \"white\"}, \"zaxis\": {\"backgroundcolor\": \"#E5ECF6\", \"gridcolor\": \"white\", \"gridwidth\": 2, \"linecolor\": \"white\", \"showbackground\": true, \"ticks\": \"\", \"zerolinecolor\": \"white\"}}, \"shapedefaults\": {\"line\": {\"color\": \"#2a3f5f\"}}, \"ternary\": {\"aaxis\": {\"gridcolor\": \"white\", \"linecolor\": \"white\", \"ticks\": \"\"}, \"baxis\": {\"gridcolor\": \"white\", \"linecolor\": \"white\", \"ticks\": \"\"}, \"bgcolor\": \"#E5ECF6\", \"caxis\": {\"gridcolor\": \"white\", \"linecolor\": \"white\", \"ticks\": \"\"}}, \"title\": {\"x\": 0.05}, \"xaxis\": {\"automargin\": true, \"gridcolor\": \"white\", \"linecolor\": \"white\", \"ticks\": \"\", \"title\": {\"standoff\": 15}, \"zerolinecolor\": \"white\", \"zerolinewidth\": 2}, \"yaxis\": {\"automargin\": true, \"gridcolor\": \"white\", \"linecolor\": \"white\", \"ticks\": \"\", \"title\": {\"standoff\": 15}, \"zerolinecolor\": \"white\", \"zerolinewidth\": 2}}}, \"xaxis\": {\"anchor\": \"y\", \"domain\": [0.0, 1.0], \"title\": {\"text\": \"Monthly date\"}}, \"yaxis\": {\"anchor\": \"x\", \"domain\": [0.0, 1.0], \"range\": [1, 5.1], \"title\": {\"text\": \"Average Score per a month\"}}},                        {\"responsive\": true}                    ).then(function(){\n",
       "                            \n",
       "var gd = document.getElementById('c43547f9-310e-4c80-b002-7d19ea7ebcb3');\n",
       "var x = new MutationObserver(function (mutations, observer) {{\n",
       "        var display = window.getComputedStyle(gd).display;\n",
       "        if (!display || display === 'none') {{\n",
       "            console.log([gd, 'removed!']);\n",
       "            Plotly.purge(gd);\n",
       "            observer.disconnect();\n",
       "        }}\n",
       "}});\n",
       "\n",
       "// Listen for the removal of the full notebook cells\n",
       "var notebookContainer = gd.closest('#notebook-container');\n",
       "if (notebookContainer) {{\n",
       "    x.observe(notebookContainer, {childList: true});\n",
       "}}\n",
       "\n",
       "// Listen for the clearing of the current output cell\n",
       "var outputEl = gd.closest('.output');\n",
       "if (outputEl) {{\n",
       "    x.observe(outputEl, {childList: true});\n",
       "}}\n",
       "\n",
       "                        })                };                });            </script>        </div>"
      ]
     },
     "metadata": {},
     "output_type": "display_data"
    }
   ],
   "source": [
    "# Here we use the plotly syntax to plot a line charts of all apps\n",
    "px.line(df_month, x= 'Monthly date', y = 'score', hover_data = {'thumbsUpCount': True, 'count':True},\n",
    "       color = 'appId', range_y = [1, 5.1], \n",
    "       labels = dict(score ='Average Score per a month', thumbsUpCount = 'Thumbs Up Count',\n",
    "                    appId = 'App Name' ))"
   ]
  },
  {
   "cell_type": "markdown",
   "id": "f88015d9",
   "metadata": {},
   "source": [
    "#### The second chart shows a histogram of the scores and the counts of players leaving a score. It is clear from the histogram that most of the reviews are positive, so we can say that during Covid19 time the apps of supercell didn't score low but it would be interesting to compare these results to before the pandemic and see if there is any major differences. Unfortunately due to the time needed and space to scrape the data, I didn't do that for all the apps but we can explore some of the apps we I managed to get more data on."
   ]
  },
  {
   "cell_type": "code",
   "execution_count": 145,
   "id": "bc3095e7",
   "metadata": {
    "scrolled": true
   },
   "outputs": [
    {
     "data": {
      "application/vnd.plotly.v1+json": {
       "config": {
        "plotlyServerURL": "https://plot.ly"
       },
       "data": [
        {
         "alignmentgroup": "True",
         "bingroup": "x",
         "histfunc": "sum",
         "hovertemplate": "score=%{x}<br>sum of count=%{y}<extra></extra>",
         "legendgroup": "",
         "marker": {
          "color": "#636efa"
         },
         "name": "",
         "nbinsx": 20,
         "offsetgroup": "",
         "orientation": "v",
         "showlegend": false,
         "type": "histogram",
         "x": [
          4.197368421052632,
          4.238263696338082,
          3.8281465360899527,
          4.445507872800247,
          4.103311596982483,
          4.210415200562984,
          4.362339772522116,
          3.8667256878234815,
          4.3878508310950215,
          4.2715035363906,
          4.224191063174114,
          4.26408111908815,
          3.8787408900604743,
          4.436550312031585,
          4.326035221323179,
          4.145660377358491,
          4.379200960219479,
          3.883466748768473,
          4.349026220642299,
          3.989984591679507,
          4.17945865776789,
          4.19802244788883,
          4.085898755497333,
          4.423090023843395,
          3.7817460317460316,
          4.141321044546851,
          4.367966487381051,
          3.680991405156906,
          4.38685578172369,
          3.736682307479989,
          4.13203125,
          4.416128860205878,
          3.7363983455297487,
          4.49932767261888,
          3.8433166125700797,
          4.236622073578595,
          4.412747138397503,
          4.030010063254744,
          4.420306445931666,
          4.165100495954059,
          4.19124218051832,
          4.36004469273743,
          3.714992336630904,
          4.39257797078563,
          4.372532619605219,
          4.114771519659937,
          4.438492158649465,
          3.689943200801871,
          4.410736377817224,
          4.224119530416222,
          4.143171806167401,
          4.227390403866068,
          3.762663688965587,
          4.395941814761313,
          4.051498522583368,
          4.11601150527325,
          4.3019891500904155,
          4.010022114525008,
          4.389103519605755,
          4.119105691056911,
          4.120274914089347,
          4.266547777040477,
          4.210893854748603,
          3.6609162491052256,
          4.337732853385691,
          4.254676043692952,
          4.153846153846154,
          3.9170506912442398,
          3.6666666666666665,
          3.765957446808511,
          3.997102382485512,
          4.228758169934641
         ],
         "xaxis": "x",
         "y": [
          2584,
          10459,
          13785,
          3239,
          7821,
          1421,
          22156,
          14684,
          51378,
          4383,
          1298,
          13511,
          12898,
          102073,
          8404,
          1325,
          23328,
          12992,
          65826,
          7788,
          2697,
          11226,
          21374,
          49909,
          4284,
          1302,
          19336,
          20012,
          46180,
          3623,
          1280,
          18749,
          12572,
          106347,
          3389,
          1196,
          19220,
          27824,
          45424,
          7662,
          1119,
          22375,
          14354,
          101320,
          5978,
          941,
          20851,
          11972,
          37182,
          2811,
          908,
          11588,
          9851,
          29767,
          2369,
          1043,
          29309,
          21253,
          32873,
          2460,
          873,
          24112,
          716,
          13970,
          82509,
          6683,
          26,
          651,
          6,
          423,
          3106,
          153
         ],
         "yaxis": "y"
        }
       ],
       "layout": {
        "barmode": "relative",
        "legend": {
         "tracegroupgap": 0
        },
        "margin": {
         "t": 60
        },
        "template": {
         "data": {
          "bar": [
           {
            "error_x": {
             "color": "#2a3f5f"
            },
            "error_y": {
             "color": "#2a3f5f"
            },
            "marker": {
             "line": {
              "color": "#E5ECF6",
              "width": 0.5
             }
            },
            "type": "bar"
           }
          ],
          "barpolar": [
           {
            "marker": {
             "line": {
              "color": "#E5ECF6",
              "width": 0.5
             }
            },
            "type": "barpolar"
           }
          ],
          "carpet": [
           {
            "aaxis": {
             "endlinecolor": "#2a3f5f",
             "gridcolor": "white",
             "linecolor": "white",
             "minorgridcolor": "white",
             "startlinecolor": "#2a3f5f"
            },
            "baxis": {
             "endlinecolor": "#2a3f5f",
             "gridcolor": "white",
             "linecolor": "white",
             "minorgridcolor": "white",
             "startlinecolor": "#2a3f5f"
            },
            "type": "carpet"
           }
          ],
          "choropleth": [
           {
            "colorbar": {
             "outlinewidth": 0,
             "ticks": ""
            },
            "type": "choropleth"
           }
          ],
          "contour": [
           {
            "colorbar": {
             "outlinewidth": 0,
             "ticks": ""
            },
            "colorscale": [
             [
              0,
              "#0d0887"
             ],
             [
              0.1111111111111111,
              "#46039f"
             ],
             [
              0.2222222222222222,
              "#7201a8"
             ],
             [
              0.3333333333333333,
              "#9c179e"
             ],
             [
              0.4444444444444444,
              "#bd3786"
             ],
             [
              0.5555555555555556,
              "#d8576b"
             ],
             [
              0.6666666666666666,
              "#ed7953"
             ],
             [
              0.7777777777777778,
              "#fb9f3a"
             ],
             [
              0.8888888888888888,
              "#fdca26"
             ],
             [
              1,
              "#f0f921"
             ]
            ],
            "type": "contour"
           }
          ],
          "contourcarpet": [
           {
            "colorbar": {
             "outlinewidth": 0,
             "ticks": ""
            },
            "type": "contourcarpet"
           }
          ],
          "heatmap": [
           {
            "colorbar": {
             "outlinewidth": 0,
             "ticks": ""
            },
            "colorscale": [
             [
              0,
              "#0d0887"
             ],
             [
              0.1111111111111111,
              "#46039f"
             ],
             [
              0.2222222222222222,
              "#7201a8"
             ],
             [
              0.3333333333333333,
              "#9c179e"
             ],
             [
              0.4444444444444444,
              "#bd3786"
             ],
             [
              0.5555555555555556,
              "#d8576b"
             ],
             [
              0.6666666666666666,
              "#ed7953"
             ],
             [
              0.7777777777777778,
              "#fb9f3a"
             ],
             [
              0.8888888888888888,
              "#fdca26"
             ],
             [
              1,
              "#f0f921"
             ]
            ],
            "type": "heatmap"
           }
          ],
          "heatmapgl": [
           {
            "colorbar": {
             "outlinewidth": 0,
             "ticks": ""
            },
            "colorscale": [
             [
              0,
              "#0d0887"
             ],
             [
              0.1111111111111111,
              "#46039f"
             ],
             [
              0.2222222222222222,
              "#7201a8"
             ],
             [
              0.3333333333333333,
              "#9c179e"
             ],
             [
              0.4444444444444444,
              "#bd3786"
             ],
             [
              0.5555555555555556,
              "#d8576b"
             ],
             [
              0.6666666666666666,
              "#ed7953"
             ],
             [
              0.7777777777777778,
              "#fb9f3a"
             ],
             [
              0.8888888888888888,
              "#fdca26"
             ],
             [
              1,
              "#f0f921"
             ]
            ],
            "type": "heatmapgl"
           }
          ],
          "histogram": [
           {
            "marker": {
             "colorbar": {
              "outlinewidth": 0,
              "ticks": ""
             }
            },
            "type": "histogram"
           }
          ],
          "histogram2d": [
           {
            "colorbar": {
             "outlinewidth": 0,
             "ticks": ""
            },
            "colorscale": [
             [
              0,
              "#0d0887"
             ],
             [
              0.1111111111111111,
              "#46039f"
             ],
             [
              0.2222222222222222,
              "#7201a8"
             ],
             [
              0.3333333333333333,
              "#9c179e"
             ],
             [
              0.4444444444444444,
              "#bd3786"
             ],
             [
              0.5555555555555556,
              "#d8576b"
             ],
             [
              0.6666666666666666,
              "#ed7953"
             ],
             [
              0.7777777777777778,
              "#fb9f3a"
             ],
             [
              0.8888888888888888,
              "#fdca26"
             ],
             [
              1,
              "#f0f921"
             ]
            ],
            "type": "histogram2d"
           }
          ],
          "histogram2dcontour": [
           {
            "colorbar": {
             "outlinewidth": 0,
             "ticks": ""
            },
            "colorscale": [
             [
              0,
              "#0d0887"
             ],
             [
              0.1111111111111111,
              "#46039f"
             ],
             [
              0.2222222222222222,
              "#7201a8"
             ],
             [
              0.3333333333333333,
              "#9c179e"
             ],
             [
              0.4444444444444444,
              "#bd3786"
             ],
             [
              0.5555555555555556,
              "#d8576b"
             ],
             [
              0.6666666666666666,
              "#ed7953"
             ],
             [
              0.7777777777777778,
              "#fb9f3a"
             ],
             [
              0.8888888888888888,
              "#fdca26"
             ],
             [
              1,
              "#f0f921"
             ]
            ],
            "type": "histogram2dcontour"
           }
          ],
          "mesh3d": [
           {
            "colorbar": {
             "outlinewidth": 0,
             "ticks": ""
            },
            "type": "mesh3d"
           }
          ],
          "parcoords": [
           {
            "line": {
             "colorbar": {
              "outlinewidth": 0,
              "ticks": ""
             }
            },
            "type": "parcoords"
           }
          ],
          "pie": [
           {
            "automargin": true,
            "type": "pie"
           }
          ],
          "scatter": [
           {
            "marker": {
             "colorbar": {
              "outlinewidth": 0,
              "ticks": ""
             }
            },
            "type": "scatter"
           }
          ],
          "scatter3d": [
           {
            "line": {
             "colorbar": {
              "outlinewidth": 0,
              "ticks": ""
             }
            },
            "marker": {
             "colorbar": {
              "outlinewidth": 0,
              "ticks": ""
             }
            },
            "type": "scatter3d"
           }
          ],
          "scattercarpet": [
           {
            "marker": {
             "colorbar": {
              "outlinewidth": 0,
              "ticks": ""
             }
            },
            "type": "scattercarpet"
           }
          ],
          "scattergeo": [
           {
            "marker": {
             "colorbar": {
              "outlinewidth": 0,
              "ticks": ""
             }
            },
            "type": "scattergeo"
           }
          ],
          "scattergl": [
           {
            "marker": {
             "colorbar": {
              "outlinewidth": 0,
              "ticks": ""
             }
            },
            "type": "scattergl"
           }
          ],
          "scattermapbox": [
           {
            "marker": {
             "colorbar": {
              "outlinewidth": 0,
              "ticks": ""
             }
            },
            "type": "scattermapbox"
           }
          ],
          "scatterpolar": [
           {
            "marker": {
             "colorbar": {
              "outlinewidth": 0,
              "ticks": ""
             }
            },
            "type": "scatterpolar"
           }
          ],
          "scatterpolargl": [
           {
            "marker": {
             "colorbar": {
              "outlinewidth": 0,
              "ticks": ""
             }
            },
            "type": "scatterpolargl"
           }
          ],
          "scatterternary": [
           {
            "marker": {
             "colorbar": {
              "outlinewidth": 0,
              "ticks": ""
             }
            },
            "type": "scatterternary"
           }
          ],
          "surface": [
           {
            "colorbar": {
             "outlinewidth": 0,
             "ticks": ""
            },
            "colorscale": [
             [
              0,
              "#0d0887"
             ],
             [
              0.1111111111111111,
              "#46039f"
             ],
             [
              0.2222222222222222,
              "#7201a8"
             ],
             [
              0.3333333333333333,
              "#9c179e"
             ],
             [
              0.4444444444444444,
              "#bd3786"
             ],
             [
              0.5555555555555556,
              "#d8576b"
             ],
             [
              0.6666666666666666,
              "#ed7953"
             ],
             [
              0.7777777777777778,
              "#fb9f3a"
             ],
             [
              0.8888888888888888,
              "#fdca26"
             ],
             [
              1,
              "#f0f921"
             ]
            ],
            "type": "surface"
           }
          ],
          "table": [
           {
            "cells": {
             "fill": {
              "color": "#EBF0F8"
             },
             "line": {
              "color": "white"
             }
            },
            "header": {
             "fill": {
              "color": "#C8D4E3"
             },
             "line": {
              "color": "white"
             }
            },
            "type": "table"
           }
          ]
         },
         "layout": {
          "annotationdefaults": {
           "arrowcolor": "#2a3f5f",
           "arrowhead": 0,
           "arrowwidth": 1
          },
          "autotypenumbers": "strict",
          "coloraxis": {
           "colorbar": {
            "outlinewidth": 0,
            "ticks": ""
           }
          },
          "colorscale": {
           "diverging": [
            [
             0,
             "#8e0152"
            ],
            [
             0.1,
             "#c51b7d"
            ],
            [
             0.2,
             "#de77ae"
            ],
            [
             0.3,
             "#f1b6da"
            ],
            [
             0.4,
             "#fde0ef"
            ],
            [
             0.5,
             "#f7f7f7"
            ],
            [
             0.6,
             "#e6f5d0"
            ],
            [
             0.7,
             "#b8e186"
            ],
            [
             0.8,
             "#7fbc41"
            ],
            [
             0.9,
             "#4d9221"
            ],
            [
             1,
             "#276419"
            ]
           ],
           "sequential": [
            [
             0,
             "#0d0887"
            ],
            [
             0.1111111111111111,
             "#46039f"
            ],
            [
             0.2222222222222222,
             "#7201a8"
            ],
            [
             0.3333333333333333,
             "#9c179e"
            ],
            [
             0.4444444444444444,
             "#bd3786"
            ],
            [
             0.5555555555555556,
             "#d8576b"
            ],
            [
             0.6666666666666666,
             "#ed7953"
            ],
            [
             0.7777777777777778,
             "#fb9f3a"
            ],
            [
             0.8888888888888888,
             "#fdca26"
            ],
            [
             1,
             "#f0f921"
            ]
           ],
           "sequentialminus": [
            [
             0,
             "#0d0887"
            ],
            [
             0.1111111111111111,
             "#46039f"
            ],
            [
             0.2222222222222222,
             "#7201a8"
            ],
            [
             0.3333333333333333,
             "#9c179e"
            ],
            [
             0.4444444444444444,
             "#bd3786"
            ],
            [
             0.5555555555555556,
             "#d8576b"
            ],
            [
             0.6666666666666666,
             "#ed7953"
            ],
            [
             0.7777777777777778,
             "#fb9f3a"
            ],
            [
             0.8888888888888888,
             "#fdca26"
            ],
            [
             1,
             "#f0f921"
            ]
           ]
          },
          "colorway": [
           "#636efa",
           "#EF553B",
           "#00cc96",
           "#ab63fa",
           "#FFA15A",
           "#19d3f3",
           "#FF6692",
           "#B6E880",
           "#FF97FF",
           "#FECB52"
          ],
          "font": {
           "color": "#2a3f5f"
          },
          "geo": {
           "bgcolor": "white",
           "lakecolor": "white",
           "landcolor": "#E5ECF6",
           "showlakes": true,
           "showland": true,
           "subunitcolor": "white"
          },
          "hoverlabel": {
           "align": "left"
          },
          "hovermode": "closest",
          "mapbox": {
           "style": "light"
          },
          "paper_bgcolor": "white",
          "plot_bgcolor": "#E5ECF6",
          "polar": {
           "angularaxis": {
            "gridcolor": "white",
            "linecolor": "white",
            "ticks": ""
           },
           "bgcolor": "#E5ECF6",
           "radialaxis": {
            "gridcolor": "white",
            "linecolor": "white",
            "ticks": ""
           }
          },
          "scene": {
           "xaxis": {
            "backgroundcolor": "#E5ECF6",
            "gridcolor": "white",
            "gridwidth": 2,
            "linecolor": "white",
            "showbackground": true,
            "ticks": "",
            "zerolinecolor": "white"
           },
           "yaxis": {
            "backgroundcolor": "#E5ECF6",
            "gridcolor": "white",
            "gridwidth": 2,
            "linecolor": "white",
            "showbackground": true,
            "ticks": "",
            "zerolinecolor": "white"
           },
           "zaxis": {
            "backgroundcolor": "#E5ECF6",
            "gridcolor": "white",
            "gridwidth": 2,
            "linecolor": "white",
            "showbackground": true,
            "ticks": "",
            "zerolinecolor": "white"
           }
          },
          "shapedefaults": {
           "line": {
            "color": "#2a3f5f"
           }
          },
          "ternary": {
           "aaxis": {
            "gridcolor": "white",
            "linecolor": "white",
            "ticks": ""
           },
           "baxis": {
            "gridcolor": "white",
            "linecolor": "white",
            "ticks": ""
           },
           "bgcolor": "#E5ECF6",
           "caxis": {
            "gridcolor": "white",
            "linecolor": "white",
            "ticks": ""
           }
          },
          "title": {
           "x": 0.05
          },
          "xaxis": {
           "automargin": true,
           "gridcolor": "white",
           "linecolor": "white",
           "ticks": "",
           "title": {
            "standoff": 15
           },
           "zerolinecolor": "white",
           "zerolinewidth": 2
          },
          "yaxis": {
           "automargin": true,
           "gridcolor": "white",
           "linecolor": "white",
           "ticks": "",
           "title": {
            "standoff": 15
           },
           "zerolinecolor": "white",
           "zerolinewidth": 2
          }
         }
        },
        "xaxis": {
         "anchor": "y",
         "domain": [
          0,
          1
         ],
         "title": {
          "text": "score"
         }
        },
        "yaxis": {
         "anchor": "x",
         "domain": [
          0,
          1
         ],
         "title": {
          "text": "sum of count"
         }
        }
       }
      },
      "text/html": [
       "<div>                            <div id=\"34738768-d731-43e8-957d-8e455efb60f1\" class=\"plotly-graph-div\" style=\"height:525px; width:100%;\"></div>            <script type=\"text/javascript\">                require([\"plotly\"], function(Plotly) {                    window.PLOTLYENV=window.PLOTLYENV || {};                                    if (document.getElementById(\"34738768-d731-43e8-957d-8e455efb60f1\")) {                    Plotly.newPlot(                        \"34738768-d731-43e8-957d-8e455efb60f1\",                        [{\"alignmentgroup\": \"True\", \"bingroup\": \"x\", \"histfunc\": \"sum\", \"hovertemplate\": \"score=%{x}<br>sum of count=%{y}<extra></extra>\", \"legendgroup\": \"\", \"marker\": {\"color\": \"#636efa\"}, \"name\": \"\", \"nbinsx\": 20, \"offsetgroup\": \"\", \"orientation\": \"v\", \"showlegend\": false, \"type\": \"histogram\", \"x\": [4.197368421052632, 4.238263696338082, 3.8281465360899527, 4.445507872800247, 4.103311596982483, 4.210415200562984, 4.362339772522116, 3.8667256878234815, 4.3878508310950215, 4.2715035363906, 4.224191063174114, 4.26408111908815, 3.8787408900604743, 4.436550312031585, 4.326035221323179, 4.145660377358491, 4.379200960219479, 3.883466748768473, 4.349026220642299, 3.989984591679507, 4.17945865776789, 4.19802244788883, 4.085898755497333, 4.423090023843395, 3.7817460317460316, 4.141321044546851, 4.367966487381051, 3.680991405156906, 4.38685578172369, 3.736682307479989, 4.13203125, 4.416128860205878, 3.7363983455297487, 4.49932767261888, 3.8433166125700797, 4.236622073578595, 4.412747138397503, 4.030010063254744, 4.420306445931666, 4.165100495954059, 4.19124218051832, 4.36004469273743, 3.714992336630904, 4.39257797078563, 4.372532619605219, 4.114771519659937, 4.438492158649465, 3.689943200801871, 4.410736377817224, 4.224119530416222, 4.143171806167401, 4.227390403866068, 3.762663688965587, 4.395941814761313, 4.051498522583368, 4.11601150527325, 4.3019891500904155, 4.010022114525008, 4.389103519605755, 4.119105691056911, 4.120274914089347, 4.266547777040477, 4.210893854748603, 3.6609162491052256, 4.337732853385691, 4.254676043692952, 4.153846153846154, 3.9170506912442398, 3.6666666666666665, 3.765957446808511, 3.997102382485512, 4.228758169934641], \"xaxis\": \"x\", \"y\": [2584, 10459, 13785, 3239, 7821, 1421, 22156, 14684, 51378, 4383, 1298, 13511, 12898, 102073, 8404, 1325, 23328, 12992, 65826, 7788, 2697, 11226, 21374, 49909, 4284, 1302, 19336, 20012, 46180, 3623, 1280, 18749, 12572, 106347, 3389, 1196, 19220, 27824, 45424, 7662, 1119, 22375, 14354, 101320, 5978, 941, 20851, 11972, 37182, 2811, 908, 11588, 9851, 29767, 2369, 1043, 29309, 21253, 32873, 2460, 873, 24112, 716, 13970, 82509, 6683, 26, 651, 6, 423, 3106, 153], \"yaxis\": \"y\"}],                        {\"barmode\": \"relative\", \"legend\": {\"tracegroupgap\": 0}, \"margin\": {\"t\": 60}, \"template\": {\"data\": {\"bar\": [{\"error_x\": {\"color\": \"#2a3f5f\"}, \"error_y\": {\"color\": \"#2a3f5f\"}, \"marker\": {\"line\": {\"color\": \"#E5ECF6\", \"width\": 0.5}}, \"type\": \"bar\"}], \"barpolar\": [{\"marker\": {\"line\": {\"color\": \"#E5ECF6\", \"width\": 0.5}}, \"type\": \"barpolar\"}], \"carpet\": [{\"aaxis\": {\"endlinecolor\": \"#2a3f5f\", \"gridcolor\": \"white\", \"linecolor\": \"white\", \"minorgridcolor\": \"white\", \"startlinecolor\": \"#2a3f5f\"}, \"baxis\": {\"endlinecolor\": \"#2a3f5f\", \"gridcolor\": \"white\", \"linecolor\": \"white\", \"minorgridcolor\": \"white\", \"startlinecolor\": \"#2a3f5f\"}, \"type\": \"carpet\"}], \"choropleth\": [{\"colorbar\": {\"outlinewidth\": 0, \"ticks\": \"\"}, \"type\": \"choropleth\"}], \"contour\": [{\"colorbar\": {\"outlinewidth\": 0, \"ticks\": \"\"}, \"colorscale\": [[0.0, \"#0d0887\"], [0.1111111111111111, \"#46039f\"], [0.2222222222222222, \"#7201a8\"], [0.3333333333333333, \"#9c179e\"], [0.4444444444444444, \"#bd3786\"], [0.5555555555555556, \"#d8576b\"], [0.6666666666666666, \"#ed7953\"], [0.7777777777777778, \"#fb9f3a\"], [0.8888888888888888, \"#fdca26\"], [1.0, \"#f0f921\"]], \"type\": \"contour\"}], \"contourcarpet\": [{\"colorbar\": {\"outlinewidth\": 0, \"ticks\": \"\"}, \"type\": \"contourcarpet\"}], \"heatmap\": [{\"colorbar\": {\"outlinewidth\": 0, \"ticks\": \"\"}, \"colorscale\": [[0.0, \"#0d0887\"], [0.1111111111111111, \"#46039f\"], [0.2222222222222222, \"#7201a8\"], [0.3333333333333333, \"#9c179e\"], [0.4444444444444444, \"#bd3786\"], [0.5555555555555556, \"#d8576b\"], [0.6666666666666666, \"#ed7953\"], [0.7777777777777778, \"#fb9f3a\"], [0.8888888888888888, \"#fdca26\"], [1.0, \"#f0f921\"]], \"type\": \"heatmap\"}], \"heatmapgl\": [{\"colorbar\": {\"outlinewidth\": 0, \"ticks\": \"\"}, \"colorscale\": [[0.0, \"#0d0887\"], [0.1111111111111111, \"#46039f\"], [0.2222222222222222, \"#7201a8\"], [0.3333333333333333, \"#9c179e\"], [0.4444444444444444, \"#bd3786\"], [0.5555555555555556, \"#d8576b\"], [0.6666666666666666, \"#ed7953\"], [0.7777777777777778, \"#fb9f3a\"], [0.8888888888888888, \"#fdca26\"], [1.0, \"#f0f921\"]], \"type\": \"heatmapgl\"}], \"histogram\": [{\"marker\": {\"colorbar\": {\"outlinewidth\": 0, \"ticks\": \"\"}}, \"type\": \"histogram\"}], \"histogram2d\": [{\"colorbar\": {\"outlinewidth\": 0, \"ticks\": \"\"}, \"colorscale\": [[0.0, \"#0d0887\"], [0.1111111111111111, \"#46039f\"], [0.2222222222222222, \"#7201a8\"], [0.3333333333333333, \"#9c179e\"], [0.4444444444444444, \"#bd3786\"], [0.5555555555555556, \"#d8576b\"], [0.6666666666666666, \"#ed7953\"], [0.7777777777777778, \"#fb9f3a\"], [0.8888888888888888, \"#fdca26\"], [1.0, \"#f0f921\"]], \"type\": \"histogram2d\"}], \"histogram2dcontour\": [{\"colorbar\": {\"outlinewidth\": 0, \"ticks\": \"\"}, \"colorscale\": [[0.0, \"#0d0887\"], [0.1111111111111111, \"#46039f\"], [0.2222222222222222, \"#7201a8\"], [0.3333333333333333, \"#9c179e\"], [0.4444444444444444, \"#bd3786\"], [0.5555555555555556, \"#d8576b\"], [0.6666666666666666, \"#ed7953\"], [0.7777777777777778, \"#fb9f3a\"], [0.8888888888888888, \"#fdca26\"], [1.0, \"#f0f921\"]], \"type\": \"histogram2dcontour\"}], \"mesh3d\": [{\"colorbar\": {\"outlinewidth\": 0, \"ticks\": \"\"}, \"type\": \"mesh3d\"}], \"parcoords\": [{\"line\": {\"colorbar\": {\"outlinewidth\": 0, \"ticks\": \"\"}}, \"type\": \"parcoords\"}], \"pie\": [{\"automargin\": true, \"type\": \"pie\"}], \"scatter\": [{\"marker\": {\"colorbar\": {\"outlinewidth\": 0, \"ticks\": \"\"}}, \"type\": \"scatter\"}], \"scatter3d\": [{\"line\": {\"colorbar\": {\"outlinewidth\": 0, \"ticks\": \"\"}}, \"marker\": {\"colorbar\": {\"outlinewidth\": 0, \"ticks\": \"\"}}, \"type\": \"scatter3d\"}], \"scattercarpet\": [{\"marker\": {\"colorbar\": {\"outlinewidth\": 0, \"ticks\": \"\"}}, \"type\": \"scattercarpet\"}], \"scattergeo\": [{\"marker\": {\"colorbar\": {\"outlinewidth\": 0, \"ticks\": \"\"}}, \"type\": \"scattergeo\"}], \"scattergl\": [{\"marker\": {\"colorbar\": {\"outlinewidth\": 0, \"ticks\": \"\"}}, \"type\": \"scattergl\"}], \"scattermapbox\": [{\"marker\": {\"colorbar\": {\"outlinewidth\": 0, \"ticks\": \"\"}}, \"type\": \"scattermapbox\"}], \"scatterpolar\": [{\"marker\": {\"colorbar\": {\"outlinewidth\": 0, \"ticks\": \"\"}}, \"type\": \"scatterpolar\"}], \"scatterpolargl\": [{\"marker\": {\"colorbar\": {\"outlinewidth\": 0, \"ticks\": \"\"}}, \"type\": \"scatterpolargl\"}], \"scatterternary\": [{\"marker\": {\"colorbar\": {\"outlinewidth\": 0, \"ticks\": \"\"}}, \"type\": \"scatterternary\"}], \"surface\": [{\"colorbar\": {\"outlinewidth\": 0, \"ticks\": \"\"}, \"colorscale\": [[0.0, \"#0d0887\"], [0.1111111111111111, \"#46039f\"], [0.2222222222222222, \"#7201a8\"], [0.3333333333333333, \"#9c179e\"], [0.4444444444444444, \"#bd3786\"], [0.5555555555555556, \"#d8576b\"], [0.6666666666666666, \"#ed7953\"], [0.7777777777777778, \"#fb9f3a\"], [0.8888888888888888, \"#fdca26\"], [1.0, \"#f0f921\"]], \"type\": \"surface\"}], \"table\": [{\"cells\": {\"fill\": {\"color\": \"#EBF0F8\"}, \"line\": {\"color\": \"white\"}}, \"header\": {\"fill\": {\"color\": \"#C8D4E3\"}, \"line\": {\"color\": \"white\"}}, \"type\": \"table\"}]}, \"layout\": {\"annotationdefaults\": {\"arrowcolor\": \"#2a3f5f\", \"arrowhead\": 0, \"arrowwidth\": 1}, \"autotypenumbers\": \"strict\", \"coloraxis\": {\"colorbar\": {\"outlinewidth\": 0, \"ticks\": \"\"}}, \"colorscale\": {\"diverging\": [[0, \"#8e0152\"], [0.1, \"#c51b7d\"], [0.2, \"#de77ae\"], [0.3, \"#f1b6da\"], [0.4, \"#fde0ef\"], [0.5, \"#f7f7f7\"], [0.6, \"#e6f5d0\"], [0.7, \"#b8e186\"], [0.8, \"#7fbc41\"], [0.9, \"#4d9221\"], [1, \"#276419\"]], \"sequential\": [[0.0, \"#0d0887\"], [0.1111111111111111, \"#46039f\"], [0.2222222222222222, \"#7201a8\"], [0.3333333333333333, \"#9c179e\"], [0.4444444444444444, \"#bd3786\"], [0.5555555555555556, \"#d8576b\"], [0.6666666666666666, \"#ed7953\"], [0.7777777777777778, \"#fb9f3a\"], [0.8888888888888888, \"#fdca26\"], [1.0, \"#f0f921\"]], \"sequentialminus\": [[0.0, \"#0d0887\"], [0.1111111111111111, \"#46039f\"], [0.2222222222222222, \"#7201a8\"], [0.3333333333333333, \"#9c179e\"], [0.4444444444444444, \"#bd3786\"], [0.5555555555555556, \"#d8576b\"], [0.6666666666666666, \"#ed7953\"], [0.7777777777777778, \"#fb9f3a\"], [0.8888888888888888, \"#fdca26\"], [1.0, \"#f0f921\"]]}, \"colorway\": [\"#636efa\", \"#EF553B\", \"#00cc96\", \"#ab63fa\", \"#FFA15A\", \"#19d3f3\", \"#FF6692\", \"#B6E880\", \"#FF97FF\", \"#FECB52\"], \"font\": {\"color\": \"#2a3f5f\"}, \"geo\": {\"bgcolor\": \"white\", \"lakecolor\": \"white\", \"landcolor\": \"#E5ECF6\", \"showlakes\": true, \"showland\": true, \"subunitcolor\": \"white\"}, \"hoverlabel\": {\"align\": \"left\"}, \"hovermode\": \"closest\", \"mapbox\": {\"style\": \"light\"}, \"paper_bgcolor\": \"white\", \"plot_bgcolor\": \"#E5ECF6\", \"polar\": {\"angularaxis\": {\"gridcolor\": \"white\", \"linecolor\": \"white\", \"ticks\": \"\"}, \"bgcolor\": \"#E5ECF6\", \"radialaxis\": {\"gridcolor\": \"white\", \"linecolor\": \"white\", \"ticks\": \"\"}}, \"scene\": {\"xaxis\": {\"backgroundcolor\": \"#E5ECF6\", \"gridcolor\": \"white\", \"gridwidth\": 2, \"linecolor\": \"white\", \"showbackground\": true, \"ticks\": \"\", \"zerolinecolor\": \"white\"}, \"yaxis\": {\"backgroundcolor\": \"#E5ECF6\", \"gridcolor\": \"white\", \"gridwidth\": 2, \"linecolor\": \"white\", \"showbackground\": true, \"ticks\": \"\", \"zerolinecolor\": \"white\"}, \"zaxis\": {\"backgroundcolor\": \"#E5ECF6\", \"gridcolor\": \"white\", \"gridwidth\": 2, \"linecolor\": \"white\", \"showbackground\": true, \"ticks\": \"\", \"zerolinecolor\": \"white\"}}, \"shapedefaults\": {\"line\": {\"color\": \"#2a3f5f\"}}, \"ternary\": {\"aaxis\": {\"gridcolor\": \"white\", \"linecolor\": \"white\", \"ticks\": \"\"}, \"baxis\": {\"gridcolor\": \"white\", \"linecolor\": \"white\", \"ticks\": \"\"}, \"bgcolor\": \"#E5ECF6\", \"caxis\": {\"gridcolor\": \"white\", \"linecolor\": \"white\", \"ticks\": \"\"}}, \"title\": {\"x\": 0.05}, \"xaxis\": {\"automargin\": true, \"gridcolor\": \"white\", \"linecolor\": \"white\", \"ticks\": \"\", \"title\": {\"standoff\": 15}, \"zerolinecolor\": \"white\", \"zerolinewidth\": 2}, \"yaxis\": {\"automargin\": true, \"gridcolor\": \"white\", \"linecolor\": \"white\", \"ticks\": \"\", \"title\": {\"standoff\": 15}, \"zerolinecolor\": \"white\", \"zerolinewidth\": 2}}}, \"xaxis\": {\"anchor\": \"y\", \"domain\": [0.0, 1.0], \"title\": {\"text\": \"score\"}}, \"yaxis\": {\"anchor\": \"x\", \"domain\": [0.0, 1.0], \"title\": {\"text\": \"sum of count\"}}},                        {\"responsive\": true}                    ).then(function(){\n",
       "                            \n",
       "var gd = document.getElementById('34738768-d731-43e8-957d-8e455efb60f1');\n",
       "var x = new MutationObserver(function (mutations, observer) {{\n",
       "        var display = window.getComputedStyle(gd).display;\n",
       "        if (!display || display === 'none') {{\n",
       "            console.log([gd, 'removed!']);\n",
       "            Plotly.purge(gd);\n",
       "            observer.disconnect();\n",
       "        }}\n",
       "}});\n",
       "\n",
       "// Listen for the removal of the full notebook cells\n",
       "var notebookContainer = gd.closest('#notebook-container');\n",
       "if (notebookContainer) {{\n",
       "    x.observe(notebookContainer, {childList: true});\n",
       "}}\n",
       "\n",
       "// Listen for the clearing of the current output cell\n",
       "var outputEl = gd.closest('.output');\n",
       "if (outputEl) {{\n",
       "    x.observe(outputEl, {childList: true});\n",
       "}}\n",
       "\n",
       "                        })                };                });            </script>        </div>"
      ]
     },
     "metadata": {},
     "output_type": "display_data"
    }
   ],
   "source": [
    "fig = px.histogram(df_month, x = 'score', y = 'count', nbins = 20)\n",
    "fig.show()"
   ]
  },
  {
   "cell_type": "code",
   "execution_count": 146,
   "id": "a589907b",
   "metadata": {
    "scrolled": true
   },
   "outputs": [
    {
     "data": {
      "application/vnd.plotly.v1+json": {
       "config": {
        "plotlyServerURL": "https://plot.ly"
       },
       "data": [
        {
         "alignmentgroup": "True",
         "bingroup": "x",
         "histfunc": "sum",
         "hovertemplate": "App Name=Boom Beach<br>Average Score per month=%{x}<br>sum of Count per month=%{y}<extra></extra>",
         "legendgroup": "Boom Beach",
         "marker": {
          "color": "#636efa"
         },
         "name": "Boom Beach",
         "offsetgroup": "Boom Beach",
         "orientation": "v",
         "showlegend": true,
         "type": "histogram",
         "x": [
          4.197368421052632,
          4.210415200562984,
          4.224191063174114,
          4.145660377358491,
          4.17945865776789,
          4.141321044546851,
          4.13203125,
          4.236622073578595,
          4.19124218051832,
          4.114771519659937,
          4.143171806167401,
          4.11601150527325,
          4.120274914089347,
          4.153846153846154
         ],
         "xaxis": "x",
         "y": [
          2584,
          1421,
          1298,
          1325,
          2697,
          1302,
          1280,
          1196,
          1119,
          941,
          908,
          1043,
          873,
          26
         ],
         "yaxis": "y"
        },
        {
         "alignmentgroup": "True",
         "customdata": [
          [
           2020,
           4,
           "Boom Beach",
           2996,
           "2020-4"
          ],
          [
           2020,
           5,
           "Boom Beach",
           2386,
           "2020-5"
          ],
          [
           2020,
           6,
           "Boom Beach",
           3200,
           "2020-6"
          ],
          [
           2020,
           7,
           "Boom Beach",
           2478,
           "2020-7"
          ],
          [
           2020,
           8,
           "Boom Beach",
           6694,
           "2020-8"
          ],
          [
           2020,
           9,
           "Boom Beach",
           3678,
           "2020-9"
          ],
          [
           2020,
           10,
           "Boom Beach",
           1461,
           "2020-10"
          ],
          [
           2020,
           11,
           "Boom Beach",
           3875,
           "2020-11"
          ],
          [
           2020,
           12,
           "Boom Beach",
           1587,
           "2020-12"
          ],
          [
           2021,
           1,
           "Boom Beach",
           3445,
           "2021-1"
          ],
          [
           2021,
           2,
           "Boom Beach",
           3433,
           "2021-2"
          ],
          [
           2021,
           3,
           "Boom Beach",
           2525,
           "2021-3"
          ],
          [
           2021,
           4,
           "Boom Beach",
           1519,
           "2021-4"
          ],
          [
           2021,
           5,
           "Boom Beach",
           41,
           "2021-5"
          ]
         ],
         "hovertemplate": "App Name=%{customdata[2]}<br>Average Score per month=%{x}<br>year=%{customdata[0]}<br>month=%{customdata[1]}<br>Thumbs Up Count=%{customdata[3]}<br>Monthly date=%{customdata[4]}<extra></extra>",
         "legendgroup": "Boom Beach",
         "marker": {
          "color": "#636efa"
         },
         "name": "Boom Beach",
         "offsetgroup": "Boom Beach",
         "scalegroup": "x",
         "showlegend": false,
         "type": "violin",
         "x": [
          4.197368421052632,
          4.210415200562984,
          4.224191063174114,
          4.145660377358491,
          4.17945865776789,
          4.141321044546851,
          4.13203125,
          4.236622073578595,
          4.19124218051832,
          4.114771519659937,
          4.143171806167401,
          4.11601150527325,
          4.120274914089347,
          4.153846153846154
         ],
         "xaxis": "x2",
         "yaxis": "y2"
        },
        {
         "alignmentgroup": "True",
         "bingroup": "x",
         "histfunc": "sum",
         "hovertemplate": "App Name=Brawl Stars<br>Average Score per month=%{x}<br>sum of Count per month=%{y}<extra></extra>",
         "legendgroup": "Brawl Stars",
         "marker": {
          "color": "#EF553B"
         },
         "name": "Brawl Stars",
         "offsetgroup": "Brawl Stars",
         "orientation": "v",
         "showlegend": true,
         "type": "histogram",
         "x": [
          4.238263696338082,
          4.362339772522116,
          4.26408111908815,
          4.379200960219479,
          4.19802244788883,
          4.367966487381051,
          4.416128860205878,
          4.412747138397503,
          4.36004469273743,
          4.438492158649465,
          4.227390403866068,
          4.3019891500904155,
          4.266547777040477,
          3.9170506912442398
         ],
         "xaxis": "x",
         "y": [
          10459,
          22156,
          13511,
          23328,
          11226,
          19336,
          18749,
          19220,
          22375,
          20851,
          11588,
          29309,
          24112,
          651
         ],
         "yaxis": "y"
        },
        {
         "alignmentgroup": "True",
         "customdata": [
          [
           2020,
           4,
           "Brawl Stars",
           9327,
           "2020-4"
          ],
          [
           2020,
           5,
           "Brawl Stars",
           21781,
           "2020-5"
          ],
          [
           2020,
           6,
           "Brawl Stars",
           15616,
           "2020-6"
          ],
          [
           2020,
           7,
           "Brawl Stars",
           30208,
           "2020-7"
          ],
          [
           2020,
           8,
           "Brawl Stars",
           15286,
           "2020-8"
          ],
          [
           2020,
           9,
           "Brawl Stars",
           26824,
           "2020-9"
          ],
          [
           2020,
           10,
           "Brawl Stars",
           28648,
           "2020-10"
          ],
          [
           2020,
           11,
           "Brawl Stars",
           32996,
           "2020-11"
          ],
          [
           2020,
           12,
           "Brawl Stars",
           45097,
           "2020-12"
          ],
          [
           2021,
           1,
           "Brawl Stars",
           33802,
           "2021-1"
          ],
          [
           2021,
           2,
           "Brawl Stars",
           22128,
           "2021-2"
          ],
          [
           2021,
           3,
           "Brawl Stars",
           48972,
           "2021-3"
          ],
          [
           2021,
           4,
           "Brawl Stars",
           53697,
           "2021-4"
          ],
          [
           2021,
           5,
           "Brawl Stars",
           1226,
           "2021-5"
          ]
         ],
         "hovertemplate": "App Name=%{customdata[2]}<br>Average Score per month=%{x}<br>year=%{customdata[0]}<br>month=%{customdata[1]}<br>Thumbs Up Count=%{customdata[3]}<br>Monthly date=%{customdata[4]}<extra></extra>",
         "legendgroup": "Brawl Stars",
         "marker": {
          "color": "#EF553B"
         },
         "name": "Brawl Stars",
         "offsetgroup": "Brawl Stars",
         "scalegroup": "x",
         "showlegend": false,
         "type": "violin",
         "x": [
          4.238263696338082,
          4.362339772522116,
          4.26408111908815,
          4.379200960219479,
          4.19802244788883,
          4.367966487381051,
          4.416128860205878,
          4.412747138397503,
          4.36004469273743,
          4.438492158649465,
          4.227390403866068,
          4.3019891500904155,
          4.266547777040477,
          3.9170506912442398
         ],
         "xaxis": "x2",
         "yaxis": "y2"
        },
        {
         "alignmentgroup": "True",
         "bingroup": "x",
         "histfunc": "sum",
         "hovertemplate": "App Name=Clash Royale<br>Average Score per month=%{x}<br>sum of Count per month=%{y}<extra></extra>",
         "legendgroup": "Clash Royale",
         "marker": {
          "color": "#00cc96"
         },
         "name": "Clash Royale",
         "offsetgroup": "Clash Royale",
         "orientation": "v",
         "showlegend": true,
         "type": "histogram",
         "x": [
          3.8281465360899527,
          3.8667256878234815,
          3.8787408900604743,
          3.883466748768473,
          4.085898755497333,
          3.680991405156906,
          3.7363983455297487,
          4.030010063254744,
          3.714992336630904,
          3.689943200801871,
          3.762663688965587,
          4.010022114525008,
          3.6609162491052256,
          3.765957446808511
         ],
         "xaxis": "x",
         "y": [
          13785,
          14684,
          12898,
          12992,
          21374,
          20012,
          12572,
          27824,
          14354,
          11972,
          9851,
          21253,
          13970,
          423
         ],
         "yaxis": "y"
        },
        {
         "alignmentgroup": "True",
         "customdata": [
          [
           2020,
           4,
           "Clash Royale",
           14580,
           "2020-4"
          ],
          [
           2020,
           5,
           "Clash Royale",
           15889,
           "2020-5"
          ],
          [
           2020,
           6,
           "Clash Royale",
           23552,
           "2020-6"
          ],
          [
           2020,
           7,
           "Clash Royale",
           18512,
           "2020-7"
          ],
          [
           2020,
           8,
           "Clash Royale",
           27563,
           "2020-8"
          ],
          [
           2020,
           9,
           "Clash Royale",
           32218,
           "2020-9"
          ],
          [
           2020,
           10,
           "Clash Royale",
           23986,
           "2020-10"
          ],
          [
           2020,
           11,
           "Clash Royale",
           42298,
           "2020-11"
          ],
          [
           2020,
           12,
           "Clash Royale",
           33217,
           "2020-12"
          ],
          [
           2021,
           1,
           "Clash Royale",
           20542,
           "2021-1"
          ],
          [
           2021,
           2,
           "Clash Royale",
           15018,
           "2021-2"
          ],
          [
           2021,
           3,
           "Clash Royale",
           53901,
           "2021-3"
          ],
          [
           2021,
           4,
           "Clash Royale",
           30535,
           "2021-4"
          ],
          [
           2021,
           5,
           "Clash Royale",
           944,
           "2021-5"
          ]
         ],
         "hovertemplate": "App Name=%{customdata[2]}<br>Average Score per month=%{x}<br>year=%{customdata[0]}<br>month=%{customdata[1]}<br>Thumbs Up Count=%{customdata[3]}<br>Monthly date=%{customdata[4]}<extra></extra>",
         "legendgroup": "Clash Royale",
         "marker": {
          "color": "#00cc96"
         },
         "name": "Clash Royale",
         "offsetgroup": "Clash Royale",
         "scalegroup": "x",
         "showlegend": false,
         "type": "violin",
         "x": [
          3.8281465360899527,
          3.8667256878234815,
          3.8787408900604743,
          3.883466748768473,
          4.085898755497333,
          3.680991405156906,
          3.7363983455297487,
          4.030010063254744,
          3.714992336630904,
          3.689943200801871,
          3.762663688965587,
          4.010022114525008,
          3.6609162491052256,
          3.765957446808511
         ],
         "xaxis": "x2",
         "yaxis": "y2"
        },
        {
         "alignmentgroup": "True",
         "bingroup": "x",
         "histfunc": "sum",
         "hovertemplate": "App Name=Clash of Clans<br>Average Score per month=%{x}<br>sum of Count per month=%{y}<extra></extra>",
         "legendgroup": "Clash of Clans",
         "marker": {
          "color": "#ab63fa"
         },
         "name": "Clash of Clans",
         "offsetgroup": "Clash of Clans",
         "orientation": "v",
         "showlegend": true,
         "type": "histogram",
         "x": [
          4.445507872800247,
          4.3878508310950215,
          4.436550312031585,
          4.349026220642299,
          4.423090023843395,
          4.38685578172369,
          4.49932767261888,
          4.420306445931666,
          4.39257797078563,
          4.410736377817224,
          4.395941814761313,
          4.389103519605755,
          4.337732853385691,
          3.997102382485512
         ],
         "xaxis": "x",
         "y": [
          3239,
          51378,
          102073,
          65826,
          49909,
          46180,
          106347,
          45424,
          101320,
          37182,
          29767,
          32873,
          82509,
          3106
         ],
         "yaxis": "y"
        },
        {
         "alignmentgroup": "True",
         "customdata": [
          [
           2020,
           4,
           "Clash of Clans",
           1702,
           "2020-4"
          ],
          [
           2020,
           5,
           "Clash of Clans",
           52166,
           "2020-5"
          ],
          [
           2020,
           6,
           "Clash of Clans",
           126072,
           "2020-6"
          ],
          [
           2020,
           7,
           "Clash of Clans",
           98969,
           "2020-7"
          ],
          [
           2020,
           8,
           "Clash of Clans",
           90317,
           "2020-8"
          ],
          [
           2020,
           9,
           "Clash of Clans",
           74906,
           "2020-9"
          ],
          [
           2020,
           10,
           "Clash of Clans",
           143267,
           "2020-10"
          ],
          [
           2020,
           11,
           "Clash of Clans",
           88923,
           "2020-11"
          ],
          [
           2020,
           12,
           "Clash of Clans",
           159072,
           "2020-12"
          ],
          [
           2021,
           1,
           "Clash of Clans",
           50429,
           "2021-1"
          ],
          [
           2021,
           2,
           "Clash of Clans",
           55515,
           "2021-2"
          ],
          [
           2021,
           3,
           "Clash of Clans",
           70764,
           "2021-3"
          ],
          [
           2021,
           4,
           "Clash of Clans",
           141416,
           "2021-4"
          ],
          [
           2021,
           5,
           "Clash of Clans",
           7225,
           "2021-5"
          ]
         ],
         "hovertemplate": "App Name=%{customdata[2]}<br>Average Score per month=%{x}<br>year=%{customdata[0]}<br>month=%{customdata[1]}<br>Thumbs Up Count=%{customdata[3]}<br>Monthly date=%{customdata[4]}<extra></extra>",
         "legendgroup": "Clash of Clans",
         "marker": {
          "color": "#ab63fa"
         },
         "name": "Clash of Clans",
         "offsetgroup": "Clash of Clans",
         "scalegroup": "x",
         "showlegend": false,
         "type": "violin",
         "x": [
          4.445507872800247,
          4.3878508310950215,
          4.436550312031585,
          4.349026220642299,
          4.423090023843395,
          4.38685578172369,
          4.49932767261888,
          4.420306445931666,
          4.39257797078563,
          4.410736377817224,
          4.395941814761313,
          4.389103519605755,
          4.337732853385691,
          3.997102382485512
         ],
         "xaxis": "x2",
         "yaxis": "y2"
        },
        {
         "alignmentgroup": "True",
         "bingroup": "x",
         "histfunc": "sum",
         "hovertemplate": "App Name=Hay Day<br>Average Score per month=%{x}<br>sum of Count per month=%{y}<extra></extra>",
         "legendgroup": "Hay Day",
         "marker": {
          "color": "#FFA15A"
         },
         "name": "Hay Day",
         "offsetgroup": "Hay Day",
         "orientation": "v",
         "showlegend": true,
         "type": "histogram",
         "x": [
          4.103311596982483,
          4.2715035363906,
          4.326035221323179,
          3.989984591679507,
          3.7817460317460316,
          3.736682307479989,
          3.8433166125700797,
          4.165100495954059,
          4.372532619605219,
          4.224119530416222,
          4.051498522583368,
          4.119105691056911,
          4.254676043692952,
          4.228758169934641
         ],
         "xaxis": "x",
         "y": [
          7821,
          4383,
          8404,
          7788,
          4284,
          3623,
          3389,
          7662,
          5978,
          2811,
          2369,
          2460,
          6683,
          153
         ],
         "yaxis": "y"
        },
        {
         "alignmentgroup": "True",
         "customdata": [
          [
           2020,
           4,
           "Hay Day",
           10918,
           "2020-4"
          ],
          [
           2020,
           5,
           "Hay Day",
           3782,
           "2020-5"
          ],
          [
           2020,
           6,
           "Hay Day",
           16349,
           "2020-6"
          ],
          [
           2020,
           7,
           "Hay Day",
           15926,
           "2020-7"
          ],
          [
           2020,
           8,
           "Hay Day",
           8870,
           "2020-8"
          ],
          [
           2020,
           9,
           "Hay Day",
           5391,
           "2020-9"
          ],
          [
           2020,
           10,
           "Hay Day",
           9044,
           "2020-10"
          ],
          [
           2020,
           11,
           "Hay Day",
           14373,
           "2020-11"
          ],
          [
           2020,
           12,
           "Hay Day",
           9942,
           "2020-12"
          ],
          [
           2021,
           1,
           "Hay Day",
           6150,
           "2021-1"
          ],
          [
           2021,
           2,
           "Hay Day",
           11082,
           "2021-2"
          ],
          [
           2021,
           3,
           "Hay Day",
           8150,
           "2021-3"
          ],
          [
           2021,
           4,
           "Hay Day",
           21571,
           "2021-4"
          ],
          [
           2021,
           5,
           "Hay Day",
           480,
           "2021-5"
          ]
         ],
         "hovertemplate": "App Name=%{customdata[2]}<br>Average Score per month=%{x}<br>year=%{customdata[0]}<br>month=%{customdata[1]}<br>Thumbs Up Count=%{customdata[3]}<br>Monthly date=%{customdata[4]}<extra></extra>",
         "legendgroup": "Hay Day",
         "marker": {
          "color": "#FFA15A"
         },
         "name": "Hay Day",
         "offsetgroup": "Hay Day",
         "scalegroup": "x",
         "showlegend": false,
         "type": "violin",
         "x": [
          4.103311596982483,
          4.2715035363906,
          4.326035221323179,
          3.989984591679507,
          3.7817460317460316,
          3.736682307479989,
          3.8433166125700797,
          4.165100495954059,
          4.372532619605219,
          4.224119530416222,
          4.051498522583368,
          4.119105691056911,
          4.254676043692952,
          4.228758169934641
         ],
         "xaxis": "x2",
         "yaxis": "y2"
        },
        {
         "alignmentgroup": "True",
         "bingroup": "x",
         "histfunc": "sum",
         "hovertemplate": "App Name=Clash  Quest<br>Average Score per month=%{x}<br>sum of Count per month=%{y}<extra></extra>",
         "legendgroup": "Clash  Quest",
         "marker": {
          "color": "#19d3f3"
         },
         "name": "Clash  Quest",
         "offsetgroup": "Clash  Quest",
         "orientation": "v",
         "showlegend": true,
         "type": "histogram",
         "x": [
          4.210893854748603,
          3.6666666666666665
         ],
         "xaxis": "x",
         "y": [
          716,
          6
         ],
         "yaxis": "y"
        },
        {
         "alignmentgroup": "True",
         "customdata": [
          [
           2021,
           4,
           "Clash  Quest",
           1141,
           "2021-4"
          ],
          [
           2021,
           5,
           "Clash  Quest",
           5,
           "2021-5"
          ]
         ],
         "hovertemplate": "App Name=%{customdata[2]}<br>Average Score per month=%{x}<br>year=%{customdata[0]}<br>month=%{customdata[1]}<br>Thumbs Up Count=%{customdata[3]}<br>Monthly date=%{customdata[4]}<extra></extra>",
         "legendgroup": "Clash  Quest",
         "marker": {
          "color": "#19d3f3"
         },
         "name": "Clash  Quest",
         "offsetgroup": "Clash  Quest",
         "scalegroup": "x",
         "showlegend": false,
         "type": "violin",
         "x": [
          4.210893854748603,
          3.6666666666666665
         ],
         "xaxis": "x2",
         "yaxis": "y2"
        }
       ],
       "layout": {
        "barmode": "relative",
        "legend": {
         "title": {
          "text": "App Name"
         },
         "tracegroupgap": 0
        },
        "margin": {
         "t": 60
        },
        "template": {
         "data": {
          "bar": [
           {
            "error_x": {
             "color": "#2a3f5f"
            },
            "error_y": {
             "color": "#2a3f5f"
            },
            "marker": {
             "line": {
              "color": "#E5ECF6",
              "width": 0.5
             }
            },
            "type": "bar"
           }
          ],
          "barpolar": [
           {
            "marker": {
             "line": {
              "color": "#E5ECF6",
              "width": 0.5
             }
            },
            "type": "barpolar"
           }
          ],
          "carpet": [
           {
            "aaxis": {
             "endlinecolor": "#2a3f5f",
             "gridcolor": "white",
             "linecolor": "white",
             "minorgridcolor": "white",
             "startlinecolor": "#2a3f5f"
            },
            "baxis": {
             "endlinecolor": "#2a3f5f",
             "gridcolor": "white",
             "linecolor": "white",
             "minorgridcolor": "white",
             "startlinecolor": "#2a3f5f"
            },
            "type": "carpet"
           }
          ],
          "choropleth": [
           {
            "colorbar": {
             "outlinewidth": 0,
             "ticks": ""
            },
            "type": "choropleth"
           }
          ],
          "contour": [
           {
            "colorbar": {
             "outlinewidth": 0,
             "ticks": ""
            },
            "colorscale": [
             [
              0,
              "#0d0887"
             ],
             [
              0.1111111111111111,
              "#46039f"
             ],
             [
              0.2222222222222222,
              "#7201a8"
             ],
             [
              0.3333333333333333,
              "#9c179e"
             ],
             [
              0.4444444444444444,
              "#bd3786"
             ],
             [
              0.5555555555555556,
              "#d8576b"
             ],
             [
              0.6666666666666666,
              "#ed7953"
             ],
             [
              0.7777777777777778,
              "#fb9f3a"
             ],
             [
              0.8888888888888888,
              "#fdca26"
             ],
             [
              1,
              "#f0f921"
             ]
            ],
            "type": "contour"
           }
          ],
          "contourcarpet": [
           {
            "colorbar": {
             "outlinewidth": 0,
             "ticks": ""
            },
            "type": "contourcarpet"
           }
          ],
          "heatmap": [
           {
            "colorbar": {
             "outlinewidth": 0,
             "ticks": ""
            },
            "colorscale": [
             [
              0,
              "#0d0887"
             ],
             [
              0.1111111111111111,
              "#46039f"
             ],
             [
              0.2222222222222222,
              "#7201a8"
             ],
             [
              0.3333333333333333,
              "#9c179e"
             ],
             [
              0.4444444444444444,
              "#bd3786"
             ],
             [
              0.5555555555555556,
              "#d8576b"
             ],
             [
              0.6666666666666666,
              "#ed7953"
             ],
             [
              0.7777777777777778,
              "#fb9f3a"
             ],
             [
              0.8888888888888888,
              "#fdca26"
             ],
             [
              1,
              "#f0f921"
             ]
            ],
            "type": "heatmap"
           }
          ],
          "heatmapgl": [
           {
            "colorbar": {
             "outlinewidth": 0,
             "ticks": ""
            },
            "colorscale": [
             [
              0,
              "#0d0887"
             ],
             [
              0.1111111111111111,
              "#46039f"
             ],
             [
              0.2222222222222222,
              "#7201a8"
             ],
             [
              0.3333333333333333,
              "#9c179e"
             ],
             [
              0.4444444444444444,
              "#bd3786"
             ],
             [
              0.5555555555555556,
              "#d8576b"
             ],
             [
              0.6666666666666666,
              "#ed7953"
             ],
             [
              0.7777777777777778,
              "#fb9f3a"
             ],
             [
              0.8888888888888888,
              "#fdca26"
             ],
             [
              1,
              "#f0f921"
             ]
            ],
            "type": "heatmapgl"
           }
          ],
          "histogram": [
           {
            "marker": {
             "colorbar": {
              "outlinewidth": 0,
              "ticks": ""
             }
            },
            "type": "histogram"
           }
          ],
          "histogram2d": [
           {
            "colorbar": {
             "outlinewidth": 0,
             "ticks": ""
            },
            "colorscale": [
             [
              0,
              "#0d0887"
             ],
             [
              0.1111111111111111,
              "#46039f"
             ],
             [
              0.2222222222222222,
              "#7201a8"
             ],
             [
              0.3333333333333333,
              "#9c179e"
             ],
             [
              0.4444444444444444,
              "#bd3786"
             ],
             [
              0.5555555555555556,
              "#d8576b"
             ],
             [
              0.6666666666666666,
              "#ed7953"
             ],
             [
              0.7777777777777778,
              "#fb9f3a"
             ],
             [
              0.8888888888888888,
              "#fdca26"
             ],
             [
              1,
              "#f0f921"
             ]
            ],
            "type": "histogram2d"
           }
          ],
          "histogram2dcontour": [
           {
            "colorbar": {
             "outlinewidth": 0,
             "ticks": ""
            },
            "colorscale": [
             [
              0,
              "#0d0887"
             ],
             [
              0.1111111111111111,
              "#46039f"
             ],
             [
              0.2222222222222222,
              "#7201a8"
             ],
             [
              0.3333333333333333,
              "#9c179e"
             ],
             [
              0.4444444444444444,
              "#bd3786"
             ],
             [
              0.5555555555555556,
              "#d8576b"
             ],
             [
              0.6666666666666666,
              "#ed7953"
             ],
             [
              0.7777777777777778,
              "#fb9f3a"
             ],
             [
              0.8888888888888888,
              "#fdca26"
             ],
             [
              1,
              "#f0f921"
             ]
            ],
            "type": "histogram2dcontour"
           }
          ],
          "mesh3d": [
           {
            "colorbar": {
             "outlinewidth": 0,
             "ticks": ""
            },
            "type": "mesh3d"
           }
          ],
          "parcoords": [
           {
            "line": {
             "colorbar": {
              "outlinewidth": 0,
              "ticks": ""
             }
            },
            "type": "parcoords"
           }
          ],
          "pie": [
           {
            "automargin": true,
            "type": "pie"
           }
          ],
          "scatter": [
           {
            "marker": {
             "colorbar": {
              "outlinewidth": 0,
              "ticks": ""
             }
            },
            "type": "scatter"
           }
          ],
          "scatter3d": [
           {
            "line": {
             "colorbar": {
              "outlinewidth": 0,
              "ticks": ""
             }
            },
            "marker": {
             "colorbar": {
              "outlinewidth": 0,
              "ticks": ""
             }
            },
            "type": "scatter3d"
           }
          ],
          "scattercarpet": [
           {
            "marker": {
             "colorbar": {
              "outlinewidth": 0,
              "ticks": ""
             }
            },
            "type": "scattercarpet"
           }
          ],
          "scattergeo": [
           {
            "marker": {
             "colorbar": {
              "outlinewidth": 0,
              "ticks": ""
             }
            },
            "type": "scattergeo"
           }
          ],
          "scattergl": [
           {
            "marker": {
             "colorbar": {
              "outlinewidth": 0,
              "ticks": ""
             }
            },
            "type": "scattergl"
           }
          ],
          "scattermapbox": [
           {
            "marker": {
             "colorbar": {
              "outlinewidth": 0,
              "ticks": ""
             }
            },
            "type": "scattermapbox"
           }
          ],
          "scatterpolar": [
           {
            "marker": {
             "colorbar": {
              "outlinewidth": 0,
              "ticks": ""
             }
            },
            "type": "scatterpolar"
           }
          ],
          "scatterpolargl": [
           {
            "marker": {
             "colorbar": {
              "outlinewidth": 0,
              "ticks": ""
             }
            },
            "type": "scatterpolargl"
           }
          ],
          "scatterternary": [
           {
            "marker": {
             "colorbar": {
              "outlinewidth": 0,
              "ticks": ""
             }
            },
            "type": "scatterternary"
           }
          ],
          "surface": [
           {
            "colorbar": {
             "outlinewidth": 0,
             "ticks": ""
            },
            "colorscale": [
             [
              0,
              "#0d0887"
             ],
             [
              0.1111111111111111,
              "#46039f"
             ],
             [
              0.2222222222222222,
              "#7201a8"
             ],
             [
              0.3333333333333333,
              "#9c179e"
             ],
             [
              0.4444444444444444,
              "#bd3786"
             ],
             [
              0.5555555555555556,
              "#d8576b"
             ],
             [
              0.6666666666666666,
              "#ed7953"
             ],
             [
              0.7777777777777778,
              "#fb9f3a"
             ],
             [
              0.8888888888888888,
              "#fdca26"
             ],
             [
              1,
              "#f0f921"
             ]
            ],
            "type": "surface"
           }
          ],
          "table": [
           {
            "cells": {
             "fill": {
              "color": "#EBF0F8"
             },
             "line": {
              "color": "white"
             }
            },
            "header": {
             "fill": {
              "color": "#C8D4E3"
             },
             "line": {
              "color": "white"
             }
            },
            "type": "table"
           }
          ]
         },
         "layout": {
          "annotationdefaults": {
           "arrowcolor": "#2a3f5f",
           "arrowhead": 0,
           "arrowwidth": 1
          },
          "autotypenumbers": "strict",
          "coloraxis": {
           "colorbar": {
            "outlinewidth": 0,
            "ticks": ""
           }
          },
          "colorscale": {
           "diverging": [
            [
             0,
             "#8e0152"
            ],
            [
             0.1,
             "#c51b7d"
            ],
            [
             0.2,
             "#de77ae"
            ],
            [
             0.3,
             "#f1b6da"
            ],
            [
             0.4,
             "#fde0ef"
            ],
            [
             0.5,
             "#f7f7f7"
            ],
            [
             0.6,
             "#e6f5d0"
            ],
            [
             0.7,
             "#b8e186"
            ],
            [
             0.8,
             "#7fbc41"
            ],
            [
             0.9,
             "#4d9221"
            ],
            [
             1,
             "#276419"
            ]
           ],
           "sequential": [
            [
             0,
             "#0d0887"
            ],
            [
             0.1111111111111111,
             "#46039f"
            ],
            [
             0.2222222222222222,
             "#7201a8"
            ],
            [
             0.3333333333333333,
             "#9c179e"
            ],
            [
             0.4444444444444444,
             "#bd3786"
            ],
            [
             0.5555555555555556,
             "#d8576b"
            ],
            [
             0.6666666666666666,
             "#ed7953"
            ],
            [
             0.7777777777777778,
             "#fb9f3a"
            ],
            [
             0.8888888888888888,
             "#fdca26"
            ],
            [
             1,
             "#f0f921"
            ]
           ],
           "sequentialminus": [
            [
             0,
             "#0d0887"
            ],
            [
             0.1111111111111111,
             "#46039f"
            ],
            [
             0.2222222222222222,
             "#7201a8"
            ],
            [
             0.3333333333333333,
             "#9c179e"
            ],
            [
             0.4444444444444444,
             "#bd3786"
            ],
            [
             0.5555555555555556,
             "#d8576b"
            ],
            [
             0.6666666666666666,
             "#ed7953"
            ],
            [
             0.7777777777777778,
             "#fb9f3a"
            ],
            [
             0.8888888888888888,
             "#fdca26"
            ],
            [
             1,
             "#f0f921"
            ]
           ]
          },
          "colorway": [
           "#636efa",
           "#EF553B",
           "#00cc96",
           "#ab63fa",
           "#FFA15A",
           "#19d3f3",
           "#FF6692",
           "#B6E880",
           "#FF97FF",
           "#FECB52"
          ],
          "font": {
           "color": "#2a3f5f"
          },
          "geo": {
           "bgcolor": "white",
           "lakecolor": "white",
           "landcolor": "#E5ECF6",
           "showlakes": true,
           "showland": true,
           "subunitcolor": "white"
          },
          "hoverlabel": {
           "align": "left"
          },
          "hovermode": "closest",
          "mapbox": {
           "style": "light"
          },
          "paper_bgcolor": "white",
          "plot_bgcolor": "#E5ECF6",
          "polar": {
           "angularaxis": {
            "gridcolor": "white",
            "linecolor": "white",
            "ticks": ""
           },
           "bgcolor": "#E5ECF6",
           "radialaxis": {
            "gridcolor": "white",
            "linecolor": "white",
            "ticks": ""
           }
          },
          "scene": {
           "xaxis": {
            "backgroundcolor": "#E5ECF6",
            "gridcolor": "white",
            "gridwidth": 2,
            "linecolor": "white",
            "showbackground": true,
            "ticks": "",
            "zerolinecolor": "white"
           },
           "yaxis": {
            "backgroundcolor": "#E5ECF6",
            "gridcolor": "white",
            "gridwidth": 2,
            "linecolor": "white",
            "showbackground": true,
            "ticks": "",
            "zerolinecolor": "white"
           },
           "zaxis": {
            "backgroundcolor": "#E5ECF6",
            "gridcolor": "white",
            "gridwidth": 2,
            "linecolor": "white",
            "showbackground": true,
            "ticks": "",
            "zerolinecolor": "white"
           }
          },
          "shapedefaults": {
           "line": {
            "color": "#2a3f5f"
           }
          },
          "ternary": {
           "aaxis": {
            "gridcolor": "white",
            "linecolor": "white",
            "ticks": ""
           },
           "baxis": {
            "gridcolor": "white",
            "linecolor": "white",
            "ticks": ""
           },
           "bgcolor": "#E5ECF6",
           "caxis": {
            "gridcolor": "white",
            "linecolor": "white",
            "ticks": ""
           }
          },
          "title": {
           "x": 0.05
          },
          "xaxis": {
           "automargin": true,
           "gridcolor": "white",
           "linecolor": "white",
           "ticks": "",
           "title": {
            "standoff": 15
           },
           "zerolinecolor": "white",
           "zerolinewidth": 2
          },
          "yaxis": {
           "automargin": true,
           "gridcolor": "white",
           "linecolor": "white",
           "ticks": "",
           "title": {
            "standoff": 15
           },
           "zerolinecolor": "white",
           "zerolinewidth": 2
          }
         }
        },
        "xaxis": {
         "anchor": "y",
         "domain": [
          0,
          1
         ],
         "title": {
          "text": "Average Score per month"
         }
        },
        "xaxis2": {
         "anchor": "y2",
         "domain": [
          0,
          1
         ],
         "matches": "x",
         "showgrid": true,
         "showticklabels": false
        },
        "yaxis": {
         "anchor": "x",
         "domain": [
          0,
          0.7326
         ],
         "title": {
          "text": "sum of Count per month"
         }
        },
        "yaxis2": {
         "anchor": "x2",
         "domain": [
          0.7426,
          1
         ],
         "matches": "y2",
         "showgrid": false,
         "showline": false,
         "showticklabels": false,
         "ticks": ""
        }
       }
      },
      "text/html": [
       "<div>                            <div id=\"3d0b4709-b415-486e-b9f0-56f17e45c205\" class=\"plotly-graph-div\" style=\"height:525px; width:100%;\"></div>            <script type=\"text/javascript\">                require([\"plotly\"], function(Plotly) {                    window.PLOTLYENV=window.PLOTLYENV || {};                                    if (document.getElementById(\"3d0b4709-b415-486e-b9f0-56f17e45c205\")) {                    Plotly.newPlot(                        \"3d0b4709-b415-486e-b9f0-56f17e45c205\",                        [{\"alignmentgroup\": \"True\", \"bingroup\": \"x\", \"histfunc\": \"sum\", \"hovertemplate\": \"App Name=Boom Beach<br>Average Score per month=%{x}<br>sum of Count per month=%{y}<extra></extra>\", \"legendgroup\": \"Boom Beach\", \"marker\": {\"color\": \"#636efa\"}, \"name\": \"Boom Beach\", \"offsetgroup\": \"Boom Beach\", \"orientation\": \"v\", \"showlegend\": true, \"type\": \"histogram\", \"x\": [4.197368421052632, 4.210415200562984, 4.224191063174114, 4.145660377358491, 4.17945865776789, 4.141321044546851, 4.13203125, 4.236622073578595, 4.19124218051832, 4.114771519659937, 4.143171806167401, 4.11601150527325, 4.120274914089347, 4.153846153846154], \"xaxis\": \"x\", \"y\": [2584, 1421, 1298, 1325, 2697, 1302, 1280, 1196, 1119, 941, 908, 1043, 873, 26], \"yaxis\": \"y\"}, {\"alignmentgroup\": \"True\", \"customdata\": [[2020, 4, \"Boom Beach\", 2996, \"2020-4\"], [2020, 5, \"Boom Beach\", 2386, \"2020-5\"], [2020, 6, \"Boom Beach\", 3200, \"2020-6\"], [2020, 7, \"Boom Beach\", 2478, \"2020-7\"], [2020, 8, \"Boom Beach\", 6694, \"2020-8\"], [2020, 9, \"Boom Beach\", 3678, \"2020-9\"], [2020, 10, \"Boom Beach\", 1461, \"2020-10\"], [2020, 11, \"Boom Beach\", 3875, \"2020-11\"], [2020, 12, \"Boom Beach\", 1587, \"2020-12\"], [2021, 1, \"Boom Beach\", 3445, \"2021-1\"], [2021, 2, \"Boom Beach\", 3433, \"2021-2\"], [2021, 3, \"Boom Beach\", 2525, \"2021-3\"], [2021, 4, \"Boom Beach\", 1519, \"2021-4\"], [2021, 5, \"Boom Beach\", 41, \"2021-5\"]], \"hovertemplate\": \"App Name=%{customdata[2]}<br>Average Score per month=%{x}<br>year=%{customdata[0]}<br>month=%{customdata[1]}<br>Thumbs Up Count=%{customdata[3]}<br>Monthly date=%{customdata[4]}<extra></extra>\", \"legendgroup\": \"Boom Beach\", \"marker\": {\"color\": \"#636efa\"}, \"name\": \"Boom Beach\", \"offsetgroup\": \"Boom Beach\", \"scalegroup\": \"x\", \"showlegend\": false, \"type\": \"violin\", \"x\": [4.197368421052632, 4.210415200562984, 4.224191063174114, 4.145660377358491, 4.17945865776789, 4.141321044546851, 4.13203125, 4.236622073578595, 4.19124218051832, 4.114771519659937, 4.143171806167401, 4.11601150527325, 4.120274914089347, 4.153846153846154], \"xaxis\": \"x2\", \"yaxis\": \"y2\"}, {\"alignmentgroup\": \"True\", \"bingroup\": \"x\", \"histfunc\": \"sum\", \"hovertemplate\": \"App Name=Brawl Stars<br>Average Score per month=%{x}<br>sum of Count per month=%{y}<extra></extra>\", \"legendgroup\": \"Brawl Stars\", \"marker\": {\"color\": \"#EF553B\"}, \"name\": \"Brawl Stars\", \"offsetgroup\": \"Brawl Stars\", \"orientation\": \"v\", \"showlegend\": true, \"type\": \"histogram\", \"x\": [4.238263696338082, 4.362339772522116, 4.26408111908815, 4.379200960219479, 4.19802244788883, 4.367966487381051, 4.416128860205878, 4.412747138397503, 4.36004469273743, 4.438492158649465, 4.227390403866068, 4.3019891500904155, 4.266547777040477, 3.9170506912442398], \"xaxis\": \"x\", \"y\": [10459, 22156, 13511, 23328, 11226, 19336, 18749, 19220, 22375, 20851, 11588, 29309, 24112, 651], \"yaxis\": \"y\"}, {\"alignmentgroup\": \"True\", \"customdata\": [[2020, 4, \"Brawl Stars\", 9327, \"2020-4\"], [2020, 5, \"Brawl Stars\", 21781, \"2020-5\"], [2020, 6, \"Brawl Stars\", 15616, \"2020-6\"], [2020, 7, \"Brawl Stars\", 30208, \"2020-7\"], [2020, 8, \"Brawl Stars\", 15286, \"2020-8\"], [2020, 9, \"Brawl Stars\", 26824, \"2020-9\"], [2020, 10, \"Brawl Stars\", 28648, \"2020-10\"], [2020, 11, \"Brawl Stars\", 32996, \"2020-11\"], [2020, 12, \"Brawl Stars\", 45097, \"2020-12\"], [2021, 1, \"Brawl Stars\", 33802, \"2021-1\"], [2021, 2, \"Brawl Stars\", 22128, \"2021-2\"], [2021, 3, \"Brawl Stars\", 48972, \"2021-3\"], [2021, 4, \"Brawl Stars\", 53697, \"2021-4\"], [2021, 5, \"Brawl Stars\", 1226, \"2021-5\"]], \"hovertemplate\": \"App Name=%{customdata[2]}<br>Average Score per month=%{x}<br>year=%{customdata[0]}<br>month=%{customdata[1]}<br>Thumbs Up Count=%{customdata[3]}<br>Monthly date=%{customdata[4]}<extra></extra>\", \"legendgroup\": \"Brawl Stars\", \"marker\": {\"color\": \"#EF553B\"}, \"name\": \"Brawl Stars\", \"offsetgroup\": \"Brawl Stars\", \"scalegroup\": \"x\", \"showlegend\": false, \"type\": \"violin\", \"x\": [4.238263696338082, 4.362339772522116, 4.26408111908815, 4.379200960219479, 4.19802244788883, 4.367966487381051, 4.416128860205878, 4.412747138397503, 4.36004469273743, 4.438492158649465, 4.227390403866068, 4.3019891500904155, 4.266547777040477, 3.9170506912442398], \"xaxis\": \"x2\", \"yaxis\": \"y2\"}, {\"alignmentgroup\": \"True\", \"bingroup\": \"x\", \"histfunc\": \"sum\", \"hovertemplate\": \"App Name=Clash Royale<br>Average Score per month=%{x}<br>sum of Count per month=%{y}<extra></extra>\", \"legendgroup\": \"Clash Royale\", \"marker\": {\"color\": \"#00cc96\"}, \"name\": \"Clash Royale\", \"offsetgroup\": \"Clash Royale\", \"orientation\": \"v\", \"showlegend\": true, \"type\": \"histogram\", \"x\": [3.8281465360899527, 3.8667256878234815, 3.8787408900604743, 3.883466748768473, 4.085898755497333, 3.680991405156906, 3.7363983455297487, 4.030010063254744, 3.714992336630904, 3.689943200801871, 3.762663688965587, 4.010022114525008, 3.6609162491052256, 3.765957446808511], \"xaxis\": \"x\", \"y\": [13785, 14684, 12898, 12992, 21374, 20012, 12572, 27824, 14354, 11972, 9851, 21253, 13970, 423], \"yaxis\": \"y\"}, {\"alignmentgroup\": \"True\", \"customdata\": [[2020, 4, \"Clash Royale\", 14580, \"2020-4\"], [2020, 5, \"Clash Royale\", 15889, \"2020-5\"], [2020, 6, \"Clash Royale\", 23552, \"2020-6\"], [2020, 7, \"Clash Royale\", 18512, \"2020-7\"], [2020, 8, \"Clash Royale\", 27563, \"2020-8\"], [2020, 9, \"Clash Royale\", 32218, \"2020-9\"], [2020, 10, \"Clash Royale\", 23986, \"2020-10\"], [2020, 11, \"Clash Royale\", 42298, \"2020-11\"], [2020, 12, \"Clash Royale\", 33217, \"2020-12\"], [2021, 1, \"Clash Royale\", 20542, \"2021-1\"], [2021, 2, \"Clash Royale\", 15018, \"2021-2\"], [2021, 3, \"Clash Royale\", 53901, \"2021-3\"], [2021, 4, \"Clash Royale\", 30535, \"2021-4\"], [2021, 5, \"Clash Royale\", 944, \"2021-5\"]], \"hovertemplate\": \"App Name=%{customdata[2]}<br>Average Score per month=%{x}<br>year=%{customdata[0]}<br>month=%{customdata[1]}<br>Thumbs Up Count=%{customdata[3]}<br>Monthly date=%{customdata[4]}<extra></extra>\", \"legendgroup\": \"Clash Royale\", \"marker\": {\"color\": \"#00cc96\"}, \"name\": \"Clash Royale\", \"offsetgroup\": \"Clash Royale\", \"scalegroup\": \"x\", \"showlegend\": false, \"type\": \"violin\", \"x\": [3.8281465360899527, 3.8667256878234815, 3.8787408900604743, 3.883466748768473, 4.085898755497333, 3.680991405156906, 3.7363983455297487, 4.030010063254744, 3.714992336630904, 3.689943200801871, 3.762663688965587, 4.010022114525008, 3.6609162491052256, 3.765957446808511], \"xaxis\": \"x2\", \"yaxis\": \"y2\"}, {\"alignmentgroup\": \"True\", \"bingroup\": \"x\", \"histfunc\": \"sum\", \"hovertemplate\": \"App Name=Clash of Clans<br>Average Score per month=%{x}<br>sum of Count per month=%{y}<extra></extra>\", \"legendgroup\": \"Clash of Clans\", \"marker\": {\"color\": \"#ab63fa\"}, \"name\": \"Clash of Clans\", \"offsetgroup\": \"Clash of Clans\", \"orientation\": \"v\", \"showlegend\": true, \"type\": \"histogram\", \"x\": [4.445507872800247, 4.3878508310950215, 4.436550312031585, 4.349026220642299, 4.423090023843395, 4.38685578172369, 4.49932767261888, 4.420306445931666, 4.39257797078563, 4.410736377817224, 4.395941814761313, 4.389103519605755, 4.337732853385691, 3.997102382485512], \"xaxis\": \"x\", \"y\": [3239, 51378, 102073, 65826, 49909, 46180, 106347, 45424, 101320, 37182, 29767, 32873, 82509, 3106], \"yaxis\": \"y\"}, {\"alignmentgroup\": \"True\", \"customdata\": [[2020, 4, \"Clash of Clans\", 1702, \"2020-4\"], [2020, 5, \"Clash of Clans\", 52166, \"2020-5\"], [2020, 6, \"Clash of Clans\", 126072, \"2020-6\"], [2020, 7, \"Clash of Clans\", 98969, \"2020-7\"], [2020, 8, \"Clash of Clans\", 90317, \"2020-8\"], [2020, 9, \"Clash of Clans\", 74906, \"2020-9\"], [2020, 10, \"Clash of Clans\", 143267, \"2020-10\"], [2020, 11, \"Clash of Clans\", 88923, \"2020-11\"], [2020, 12, \"Clash of Clans\", 159072, \"2020-12\"], [2021, 1, \"Clash of Clans\", 50429, \"2021-1\"], [2021, 2, \"Clash of Clans\", 55515, \"2021-2\"], [2021, 3, \"Clash of Clans\", 70764, \"2021-3\"], [2021, 4, \"Clash of Clans\", 141416, \"2021-4\"], [2021, 5, \"Clash of Clans\", 7225, \"2021-5\"]], \"hovertemplate\": \"App Name=%{customdata[2]}<br>Average Score per month=%{x}<br>year=%{customdata[0]}<br>month=%{customdata[1]}<br>Thumbs Up Count=%{customdata[3]}<br>Monthly date=%{customdata[4]}<extra></extra>\", \"legendgroup\": \"Clash of Clans\", \"marker\": {\"color\": \"#ab63fa\"}, \"name\": \"Clash of Clans\", \"offsetgroup\": \"Clash of Clans\", \"scalegroup\": \"x\", \"showlegend\": false, \"type\": \"violin\", \"x\": [4.445507872800247, 4.3878508310950215, 4.436550312031585, 4.349026220642299, 4.423090023843395, 4.38685578172369, 4.49932767261888, 4.420306445931666, 4.39257797078563, 4.410736377817224, 4.395941814761313, 4.389103519605755, 4.337732853385691, 3.997102382485512], \"xaxis\": \"x2\", \"yaxis\": \"y2\"}, {\"alignmentgroup\": \"True\", \"bingroup\": \"x\", \"histfunc\": \"sum\", \"hovertemplate\": \"App Name=Hay Day<br>Average Score per month=%{x}<br>sum of Count per month=%{y}<extra></extra>\", \"legendgroup\": \"Hay Day\", \"marker\": {\"color\": \"#FFA15A\"}, \"name\": \"Hay Day\", \"offsetgroup\": \"Hay Day\", \"orientation\": \"v\", \"showlegend\": true, \"type\": \"histogram\", \"x\": [4.103311596982483, 4.2715035363906, 4.326035221323179, 3.989984591679507, 3.7817460317460316, 3.736682307479989, 3.8433166125700797, 4.165100495954059, 4.372532619605219, 4.224119530416222, 4.051498522583368, 4.119105691056911, 4.254676043692952, 4.228758169934641], \"xaxis\": \"x\", \"y\": [7821, 4383, 8404, 7788, 4284, 3623, 3389, 7662, 5978, 2811, 2369, 2460, 6683, 153], \"yaxis\": \"y\"}, {\"alignmentgroup\": \"True\", \"customdata\": [[2020, 4, \"Hay Day\", 10918, \"2020-4\"], [2020, 5, \"Hay Day\", 3782, \"2020-5\"], [2020, 6, \"Hay Day\", 16349, \"2020-6\"], [2020, 7, \"Hay Day\", 15926, \"2020-7\"], [2020, 8, \"Hay Day\", 8870, \"2020-8\"], [2020, 9, \"Hay Day\", 5391, \"2020-9\"], [2020, 10, \"Hay Day\", 9044, \"2020-10\"], [2020, 11, \"Hay Day\", 14373, \"2020-11\"], [2020, 12, \"Hay Day\", 9942, \"2020-12\"], [2021, 1, \"Hay Day\", 6150, \"2021-1\"], [2021, 2, \"Hay Day\", 11082, \"2021-2\"], [2021, 3, \"Hay Day\", 8150, \"2021-3\"], [2021, 4, \"Hay Day\", 21571, \"2021-4\"], [2021, 5, \"Hay Day\", 480, \"2021-5\"]], \"hovertemplate\": \"App Name=%{customdata[2]}<br>Average Score per month=%{x}<br>year=%{customdata[0]}<br>month=%{customdata[1]}<br>Thumbs Up Count=%{customdata[3]}<br>Monthly date=%{customdata[4]}<extra></extra>\", \"legendgroup\": \"Hay Day\", \"marker\": {\"color\": \"#FFA15A\"}, \"name\": \"Hay Day\", \"offsetgroup\": \"Hay Day\", \"scalegroup\": \"x\", \"showlegend\": false, \"type\": \"violin\", \"x\": [4.103311596982483, 4.2715035363906, 4.326035221323179, 3.989984591679507, 3.7817460317460316, 3.736682307479989, 3.8433166125700797, 4.165100495954059, 4.372532619605219, 4.224119530416222, 4.051498522583368, 4.119105691056911, 4.254676043692952, 4.228758169934641], \"xaxis\": \"x2\", \"yaxis\": \"y2\"}, {\"alignmentgroup\": \"True\", \"bingroup\": \"x\", \"histfunc\": \"sum\", \"hovertemplate\": \"App Name=Clash  Quest<br>Average Score per month=%{x}<br>sum of Count per month=%{y}<extra></extra>\", \"legendgroup\": \"Clash  Quest\", \"marker\": {\"color\": \"#19d3f3\"}, \"name\": \"Clash  Quest\", \"offsetgroup\": \"Clash  Quest\", \"orientation\": \"v\", \"showlegend\": true, \"type\": \"histogram\", \"x\": [4.210893854748603, 3.6666666666666665], \"xaxis\": \"x\", \"y\": [716, 6], \"yaxis\": \"y\"}, {\"alignmentgroup\": \"True\", \"customdata\": [[2021, 4, \"Clash  Quest\", 1141, \"2021-4\"], [2021, 5, \"Clash  Quest\", 5, \"2021-5\"]], \"hovertemplate\": \"App Name=%{customdata[2]}<br>Average Score per month=%{x}<br>year=%{customdata[0]}<br>month=%{customdata[1]}<br>Thumbs Up Count=%{customdata[3]}<br>Monthly date=%{customdata[4]}<extra></extra>\", \"legendgroup\": \"Clash  Quest\", \"marker\": {\"color\": \"#19d3f3\"}, \"name\": \"Clash  Quest\", \"offsetgroup\": \"Clash  Quest\", \"scalegroup\": \"x\", \"showlegend\": false, \"type\": \"violin\", \"x\": [4.210893854748603, 3.6666666666666665], \"xaxis\": \"x2\", \"yaxis\": \"y2\"}],                        {\"barmode\": \"relative\", \"legend\": {\"title\": {\"text\": \"App Name\"}, \"tracegroupgap\": 0}, \"margin\": {\"t\": 60}, \"template\": {\"data\": {\"bar\": [{\"error_x\": {\"color\": \"#2a3f5f\"}, \"error_y\": {\"color\": \"#2a3f5f\"}, \"marker\": {\"line\": {\"color\": \"#E5ECF6\", \"width\": 0.5}}, \"type\": \"bar\"}], \"barpolar\": [{\"marker\": {\"line\": {\"color\": \"#E5ECF6\", \"width\": 0.5}}, \"type\": \"barpolar\"}], \"carpet\": [{\"aaxis\": {\"endlinecolor\": \"#2a3f5f\", \"gridcolor\": \"white\", \"linecolor\": \"white\", \"minorgridcolor\": \"white\", \"startlinecolor\": \"#2a3f5f\"}, \"baxis\": {\"endlinecolor\": \"#2a3f5f\", \"gridcolor\": \"white\", \"linecolor\": \"white\", \"minorgridcolor\": \"white\", \"startlinecolor\": \"#2a3f5f\"}, \"type\": \"carpet\"}], \"choropleth\": [{\"colorbar\": {\"outlinewidth\": 0, \"ticks\": \"\"}, \"type\": \"choropleth\"}], \"contour\": [{\"colorbar\": {\"outlinewidth\": 0, \"ticks\": \"\"}, \"colorscale\": [[0.0, \"#0d0887\"], [0.1111111111111111, \"#46039f\"], [0.2222222222222222, \"#7201a8\"], [0.3333333333333333, \"#9c179e\"], [0.4444444444444444, \"#bd3786\"], [0.5555555555555556, \"#d8576b\"], [0.6666666666666666, \"#ed7953\"], [0.7777777777777778, \"#fb9f3a\"], [0.8888888888888888, \"#fdca26\"], [1.0, \"#f0f921\"]], \"type\": \"contour\"}], \"contourcarpet\": [{\"colorbar\": {\"outlinewidth\": 0, \"ticks\": \"\"}, \"type\": \"contourcarpet\"}], \"heatmap\": [{\"colorbar\": {\"outlinewidth\": 0, \"ticks\": \"\"}, \"colorscale\": [[0.0, \"#0d0887\"], [0.1111111111111111, \"#46039f\"], [0.2222222222222222, \"#7201a8\"], [0.3333333333333333, \"#9c179e\"], [0.4444444444444444, \"#bd3786\"], [0.5555555555555556, \"#d8576b\"], [0.6666666666666666, \"#ed7953\"], [0.7777777777777778, \"#fb9f3a\"], [0.8888888888888888, \"#fdca26\"], [1.0, \"#f0f921\"]], \"type\": \"heatmap\"}], \"heatmapgl\": [{\"colorbar\": {\"outlinewidth\": 0, \"ticks\": \"\"}, \"colorscale\": [[0.0, \"#0d0887\"], [0.1111111111111111, \"#46039f\"], [0.2222222222222222, \"#7201a8\"], [0.3333333333333333, \"#9c179e\"], [0.4444444444444444, \"#bd3786\"], [0.5555555555555556, \"#d8576b\"], [0.6666666666666666, \"#ed7953\"], [0.7777777777777778, \"#fb9f3a\"], [0.8888888888888888, \"#fdca26\"], [1.0, \"#f0f921\"]], \"type\": \"heatmapgl\"}], \"histogram\": [{\"marker\": {\"colorbar\": {\"outlinewidth\": 0, \"ticks\": \"\"}}, \"type\": \"histogram\"}], \"histogram2d\": [{\"colorbar\": {\"outlinewidth\": 0, \"ticks\": \"\"}, \"colorscale\": [[0.0, \"#0d0887\"], [0.1111111111111111, \"#46039f\"], [0.2222222222222222, \"#7201a8\"], [0.3333333333333333, \"#9c179e\"], [0.4444444444444444, \"#bd3786\"], [0.5555555555555556, \"#d8576b\"], [0.6666666666666666, \"#ed7953\"], [0.7777777777777778, \"#fb9f3a\"], [0.8888888888888888, \"#fdca26\"], [1.0, \"#f0f921\"]], \"type\": \"histogram2d\"}], \"histogram2dcontour\": [{\"colorbar\": {\"outlinewidth\": 0, \"ticks\": \"\"}, \"colorscale\": [[0.0, \"#0d0887\"], [0.1111111111111111, \"#46039f\"], [0.2222222222222222, \"#7201a8\"], [0.3333333333333333, \"#9c179e\"], [0.4444444444444444, \"#bd3786\"], [0.5555555555555556, \"#d8576b\"], [0.6666666666666666, \"#ed7953\"], [0.7777777777777778, \"#fb9f3a\"], [0.8888888888888888, \"#fdca26\"], [1.0, \"#f0f921\"]], \"type\": \"histogram2dcontour\"}], \"mesh3d\": [{\"colorbar\": {\"outlinewidth\": 0, \"ticks\": \"\"}, \"type\": \"mesh3d\"}], \"parcoords\": [{\"line\": {\"colorbar\": {\"outlinewidth\": 0, \"ticks\": \"\"}}, \"type\": \"parcoords\"}], \"pie\": [{\"automargin\": true, \"type\": \"pie\"}], \"scatter\": [{\"marker\": {\"colorbar\": {\"outlinewidth\": 0, \"ticks\": \"\"}}, \"type\": \"scatter\"}], \"scatter3d\": [{\"line\": {\"colorbar\": {\"outlinewidth\": 0, \"ticks\": \"\"}}, \"marker\": {\"colorbar\": {\"outlinewidth\": 0, \"ticks\": \"\"}}, \"type\": \"scatter3d\"}], \"scattercarpet\": [{\"marker\": {\"colorbar\": {\"outlinewidth\": 0, \"ticks\": \"\"}}, \"type\": \"scattercarpet\"}], \"scattergeo\": [{\"marker\": {\"colorbar\": {\"outlinewidth\": 0, \"ticks\": \"\"}}, \"type\": \"scattergeo\"}], \"scattergl\": [{\"marker\": {\"colorbar\": {\"outlinewidth\": 0, \"ticks\": \"\"}}, \"type\": \"scattergl\"}], \"scattermapbox\": [{\"marker\": {\"colorbar\": {\"outlinewidth\": 0, \"ticks\": \"\"}}, \"type\": \"scattermapbox\"}], \"scatterpolar\": [{\"marker\": {\"colorbar\": {\"outlinewidth\": 0, \"ticks\": \"\"}}, \"type\": \"scatterpolar\"}], \"scatterpolargl\": [{\"marker\": {\"colorbar\": {\"outlinewidth\": 0, \"ticks\": \"\"}}, \"type\": \"scatterpolargl\"}], \"scatterternary\": [{\"marker\": {\"colorbar\": {\"outlinewidth\": 0, \"ticks\": \"\"}}, \"type\": \"scatterternary\"}], \"surface\": [{\"colorbar\": {\"outlinewidth\": 0, \"ticks\": \"\"}, \"colorscale\": [[0.0, \"#0d0887\"], [0.1111111111111111, \"#46039f\"], [0.2222222222222222, \"#7201a8\"], [0.3333333333333333, \"#9c179e\"], [0.4444444444444444, \"#bd3786\"], [0.5555555555555556, \"#d8576b\"], [0.6666666666666666, \"#ed7953\"], [0.7777777777777778, \"#fb9f3a\"], [0.8888888888888888, \"#fdca26\"], [1.0, \"#f0f921\"]], \"type\": \"surface\"}], \"table\": [{\"cells\": {\"fill\": {\"color\": \"#EBF0F8\"}, \"line\": {\"color\": \"white\"}}, \"header\": {\"fill\": {\"color\": \"#C8D4E3\"}, \"line\": {\"color\": \"white\"}}, \"type\": \"table\"}]}, \"layout\": {\"annotationdefaults\": {\"arrowcolor\": \"#2a3f5f\", \"arrowhead\": 0, \"arrowwidth\": 1}, \"autotypenumbers\": \"strict\", \"coloraxis\": {\"colorbar\": {\"outlinewidth\": 0, \"ticks\": \"\"}}, \"colorscale\": {\"diverging\": [[0, \"#8e0152\"], [0.1, \"#c51b7d\"], [0.2, \"#de77ae\"], [0.3, \"#f1b6da\"], [0.4, \"#fde0ef\"], [0.5, \"#f7f7f7\"], [0.6, \"#e6f5d0\"], [0.7, \"#b8e186\"], [0.8, \"#7fbc41\"], [0.9, \"#4d9221\"], [1, \"#276419\"]], \"sequential\": [[0.0, \"#0d0887\"], [0.1111111111111111, \"#46039f\"], [0.2222222222222222, \"#7201a8\"], [0.3333333333333333, \"#9c179e\"], [0.4444444444444444, \"#bd3786\"], [0.5555555555555556, \"#d8576b\"], [0.6666666666666666, \"#ed7953\"], [0.7777777777777778, \"#fb9f3a\"], [0.8888888888888888, \"#fdca26\"], [1.0, \"#f0f921\"]], \"sequentialminus\": [[0.0, \"#0d0887\"], [0.1111111111111111, \"#46039f\"], [0.2222222222222222, \"#7201a8\"], [0.3333333333333333, \"#9c179e\"], [0.4444444444444444, \"#bd3786\"], [0.5555555555555556, \"#d8576b\"], [0.6666666666666666, \"#ed7953\"], [0.7777777777777778, \"#fb9f3a\"], [0.8888888888888888, \"#fdca26\"], [1.0, \"#f0f921\"]]}, \"colorway\": [\"#636efa\", \"#EF553B\", \"#00cc96\", \"#ab63fa\", \"#FFA15A\", \"#19d3f3\", \"#FF6692\", \"#B6E880\", \"#FF97FF\", \"#FECB52\"], \"font\": {\"color\": \"#2a3f5f\"}, \"geo\": {\"bgcolor\": \"white\", \"lakecolor\": \"white\", \"landcolor\": \"#E5ECF6\", \"showlakes\": true, \"showland\": true, \"subunitcolor\": \"white\"}, \"hoverlabel\": {\"align\": \"left\"}, \"hovermode\": \"closest\", \"mapbox\": {\"style\": \"light\"}, \"paper_bgcolor\": \"white\", \"plot_bgcolor\": \"#E5ECF6\", \"polar\": {\"angularaxis\": {\"gridcolor\": \"white\", \"linecolor\": \"white\", \"ticks\": \"\"}, \"bgcolor\": \"#E5ECF6\", \"radialaxis\": {\"gridcolor\": \"white\", \"linecolor\": \"white\", \"ticks\": \"\"}}, \"scene\": {\"xaxis\": {\"backgroundcolor\": \"#E5ECF6\", \"gridcolor\": \"white\", \"gridwidth\": 2, \"linecolor\": \"white\", \"showbackground\": true, \"ticks\": \"\", \"zerolinecolor\": \"white\"}, \"yaxis\": {\"backgroundcolor\": \"#E5ECF6\", \"gridcolor\": \"white\", \"gridwidth\": 2, \"linecolor\": \"white\", \"showbackground\": true, \"ticks\": \"\", \"zerolinecolor\": \"white\"}, \"zaxis\": {\"backgroundcolor\": \"#E5ECF6\", \"gridcolor\": \"white\", \"gridwidth\": 2, \"linecolor\": \"white\", \"showbackground\": true, \"ticks\": \"\", \"zerolinecolor\": \"white\"}}, \"shapedefaults\": {\"line\": {\"color\": \"#2a3f5f\"}}, \"ternary\": {\"aaxis\": {\"gridcolor\": \"white\", \"linecolor\": \"white\", \"ticks\": \"\"}, \"baxis\": {\"gridcolor\": \"white\", \"linecolor\": \"white\", \"ticks\": \"\"}, \"bgcolor\": \"#E5ECF6\", \"caxis\": {\"gridcolor\": \"white\", \"linecolor\": \"white\", \"ticks\": \"\"}}, \"title\": {\"x\": 0.05}, \"xaxis\": {\"automargin\": true, \"gridcolor\": \"white\", \"linecolor\": \"white\", \"ticks\": \"\", \"title\": {\"standoff\": 15}, \"zerolinecolor\": \"white\", \"zerolinewidth\": 2}, \"yaxis\": {\"automargin\": true, \"gridcolor\": \"white\", \"linecolor\": \"white\", \"ticks\": \"\", \"title\": {\"standoff\": 15}, \"zerolinecolor\": \"white\", \"zerolinewidth\": 2}}}, \"xaxis\": {\"anchor\": \"y\", \"domain\": [0.0, 1.0], \"title\": {\"text\": \"Average Score per month\"}}, \"xaxis2\": {\"anchor\": \"y2\", \"domain\": [0.0, 1.0], \"matches\": \"x\", \"showgrid\": true, \"showticklabels\": false}, \"yaxis\": {\"anchor\": \"x\", \"domain\": [0.0, 0.7326], \"title\": {\"text\": \"sum of Count per month\"}}, \"yaxis2\": {\"anchor\": \"x2\", \"domain\": [0.7426, 1.0], \"matches\": \"y2\", \"showgrid\": false, \"showline\": false, \"showticklabels\": false, \"ticks\": \"\"}},                        {\"responsive\": true}                    ).then(function(){\n",
       "                            \n",
       "var gd = document.getElementById('3d0b4709-b415-486e-b9f0-56f17e45c205');\n",
       "var x = new MutationObserver(function (mutations, observer) {{\n",
       "        var display = window.getComputedStyle(gd).display;\n",
       "        if (!display || display === 'none') {{\n",
       "            console.log([gd, 'removed!']);\n",
       "            Plotly.purge(gd);\n",
       "            observer.disconnect();\n",
       "        }}\n",
       "}});\n",
       "\n",
       "// Listen for the removal of the full notebook cells\n",
       "var notebookContainer = gd.closest('#notebook-container');\n",
       "if (notebookContainer) {{\n",
       "    x.observe(notebookContainer, {childList: true});\n",
       "}}\n",
       "\n",
       "// Listen for the clearing of the current output cell\n",
       "var outputEl = gd.closest('.output');\n",
       "if (outputEl) {{\n",
       "    x.observe(outputEl, {childList: true});\n",
       "}}\n",
       "\n",
       "                        })                };                });            </script>        </div>"
      ]
     },
     "metadata": {},
     "output_type": "display_data"
    }
   ],
   "source": [
    "# This code will create multible histograms and its violin chart\n",
    "fig = px.histogram(df_month, x=\"score\", y = 'count', color=\"appId\", marginal=\"violin\", # can be `box`, `violin`\n",
    "                         hover_data=df_month.columns, labels = dict(score ='Average Score per month',\n",
    "                                                                    thumbsUpCount = 'Thumbs Up Count', \n",
    "                                                                    appId = 'App Name', count = 'Count per month'))\n",
    "fig.show()\n"
   ]
  },
  {
   "cell_type": "markdown",
   "id": "dd566c5c",
   "metadata": {},
   "source": [
    "#### The chart above shows the histogram of each app, and looking at the violin chart we can see the Boom Beach has had the most stability in its scoring, and Clash of clans has the highest score per reviews. Clash Royal on the other had is a bit on the low side compared to the other apps, however it still holds a good score. It is clear that we dont have enough data on Clash Quest because the app was released on April 2021 so we only have 1 month and a half worth of data, thats why the distribution between its score is large due to the low volume of reviews and differences in the players opinions. We will need more time to show if Clash Quest will be a successful game or not.\n",
    "\n",
    "#### When you look at the histograms it is good to note that Hay Day, has a lot lower sum of count than Clash of Clans, the reason why its displayed just above Clash of clans is because it cannot be visible otherwise. If you hover the arrow on the chart you will be able to see the right sum of count for each app and I recommend that to gain more insights. You can also turn on and off the chart depending on what app you want to look it for more insights"
   ]
  }
 ],
 "metadata": {
  "kernelspec": {
   "display_name": "Python 3",
   "language": "python",
   "name": "python3"
  },
  "language_info": {
   "codemirror_mode": {
    "name": "ipython",
    "version": 3
   },
   "file_extension": ".py",
   "mimetype": "text/x-python",
   "name": "python",
   "nbconvert_exporter": "python",
   "pygments_lexer": "ipython3",
   "version": "3.9.5"
  }
 },
 "nbformat": 4,
 "nbformat_minor": 5
}
